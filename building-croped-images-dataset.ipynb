{
 "cells": [
  {
   "cell_type": "markdown",
   "metadata": {
    "papermill": {
     "duration": 0.011608,
     "end_time": "2020-08-21T21:13:59.720933",
     "exception": false,
     "start_time": "2020-08-21T21:13:59.709325",
     "status": "completed"
    },
    "tags": []
   },
   "source": [
    "# Importations"
   ]
  },
  {
   "cell_type": "code",
   "execution_count": 1,
   "metadata": {
    "_cell_guid": "b1076dfc-b9ad-4769-8c92-a6c4dae69d19",
    "_uuid": "8f2839f25d086af736a60e9eeb907d3b93b6e0e5",
    "execution": {
     "iopub.execute_input": "2020-08-21T21:13:59.749500Z",
     "iopub.status.busy": "2020-08-21T21:13:59.748755Z",
     "iopub.status.idle": "2020-08-21T21:14:01.714849Z",
     "shell.execute_reply": "2020-08-21T21:14:01.714087Z"
    },
    "papermill": {
     "duration": 1.983778,
     "end_time": "2020-08-21T21:14:01.714994",
     "exception": false,
     "start_time": "2020-08-21T21:13:59.731216",
     "status": "completed"
    },
    "tags": []
   },
   "outputs": [],
   "source": [
    "import gc ,random \n",
    "from ipywidgets import interact, fixed\n",
    "\n",
    "import numpy as np # linear algebra\n",
    "import pandas as pd # data processing, CSV file I/O (e.g. pd.read_csv)\n",
    "import seaborn as sns\n",
    "import matplotlib.pyplot as plt\n",
    "from tqdm.notebook import tqdm \n",
    "\n",
    "import cv2\n",
    "import SimpleITK as sitk\n",
    "from PIL import Image\n",
    "\n",
    "from sklearn import model_selection\n",
    "from sklearn.model_selection import train_test_split"
   ]
  },
  {
   "cell_type": "markdown",
   "metadata": {
    "papermill": {
     "duration": 0.010368,
     "end_time": "2020-08-21T21:14:01.846689",
     "exception": false,
     "start_time": "2020-08-21T21:14:01.836321",
     "status": "completed"
    },
    "tags": []
   },
   "source": [
    "# utils functions "
   ]
  },
  {
   "cell_type": "code",
   "execution_count": 3,
   "metadata": {
    "execution": {
     "iopub.execute_input": "2020-08-21T21:14:01.875726Z",
     "iopub.status.busy": "2020-08-21T21:14:01.874664Z",
     "iopub.status.idle": "2020-08-21T21:14:01.877312Z",
     "shell.execute_reply": "2020-08-21T21:14:01.877866Z"
    },
    "papermill": {
     "duration": 0.02004,
     "end_time": "2020-08-21T21:14:01.878033",
     "exception": false,
     "start_time": "2020-08-21T21:14:01.857993",
     "status": "completed"
    },
    "tags": []
   },
   "outputs": [],
   "source": [
    "def display(image_z, fixed):\n",
    "    fig, axs = plt.subplots(figsize=(10,8))\n",
    "    axs.imshow(sitk.GetArrayViewFromImage(fixed[:,:,image_z]), cmap='hot', interpolation='nearest');\n",
    "    plt.show()"
   ]
  },
  {
   "cell_type": "code",
   "execution_count": 4,
   "metadata": {
    "execution": {
     "iopub.execute_input": "2020-08-21T21:14:01.908074Z",
     "iopub.status.busy": "2020-08-21T21:14:01.907067Z",
     "iopub.status.idle": "2020-08-21T21:14:01.910627Z",
     "shell.execute_reply": "2020-08-21T21:14:01.911214Z"
    },
    "papermill": {
     "duration": 0.023219,
     "end_time": "2020-08-21T21:14:01.911379",
     "exception": false,
     "start_time": "2020-08-21T21:14:01.888160",
     "status": "completed"
    },
    "tags": []
   },
   "outputs": [],
   "source": [
    "def display_images_with_Label(image_z , alpha , im_orginal , Label  ):\n",
    "    fig, axs = plt.subplots(1,2,figsize=(20,8))\n",
    "    im = (1-alpha) * im_orginal + alpha * (sitk.Cast(Label, sitk.sitkFloat32) )\n",
    "    axs[0].imshow(sitk.GetArrayFromImage(im[:,:,image_z]),cmap=plt.cm.Greys_r);\n",
    "    axs[1].imshow(sitk.GetArrayFromImage(sitk.LabelToRGB(Label)[:,:,image_z]));"
   ]
  },
  {
   "cell_type": "code",
   "execution_count": 5,
   "metadata": {
    "execution": {
     "iopub.execute_input": "2020-08-21T21:14:01.940966Z",
     "iopub.status.busy": "2020-08-21T21:14:01.940045Z",
     "iopub.status.idle": "2020-08-21T21:14:01.943328Z",
     "shell.execute_reply": "2020-08-21T21:14:01.942746Z"
    },
    "papermill": {
     "duration": 0.02183,
     "end_time": "2020-08-21T21:14:01.943455",
     "exception": false,
     "start_time": "2020-08-21T21:14:01.921625",
     "status": "completed"
    },
    "tags": []
   },
   "outputs": [],
   "source": [
    "def visualize_results(image_z   , label , label_hat): \n",
    "    fig, axs = plt.subplots(1,2,figsize=(20,8))\n",
    "\n",
    "    axs[0].imshow(sitk.GetArrayFromImage(sitk.LabelToRGB(label)[:,:,image_z]));\n",
    "    axs[0].set_title('Real mask')\n",
    "  \n",
    "    axs[1].imshow(sitk.GetArrayFromImage(sitk.LabelToRGB(label_hat)[:,:,image_z]));\n",
    "    axs[1].set_title('predicted mask')"
   ]
  },
  {
   "cell_type": "markdown",
   "metadata": {
    "papermill": {
     "duration": 0.009608,
     "end_time": "2020-08-21T21:14:01.963108",
     "exception": false,
     "start_time": "2020-08-21T21:14:01.953500",
     "status": "completed"
    },
    "tags": []
   },
   "source": [
    "## hippocampus position probability Map  "
   ]
  },
  {
   "cell_type": "markdown",
   "metadata": {
    "papermill": {
     "duration": 0.00951,
     "end_time": "2020-08-21T21:14:01.982598",
     "exception": false,
     "start_time": "2020-08-21T21:14:01.973088",
     "status": "completed"
    },
    "tags": []
   },
   "source": [
    "![](https://nhoues.github.io/Segmentation-of-hippocampal/Images/XY_map%20.PNG)"
   ]
  },
  {
   "cell_type": "markdown",
   "metadata": {
    "papermill": {
     "duration": 0.009668,
     "end_time": "2020-08-21T21:14:02.002091",
     "exception": false,
     "start_time": "2020-08-21T21:14:01.992423",
     "status": "completed"
    },
    "tags": []
   },
   "source": [
    "![](https://nhoues.github.io/Segmentation-of-hippocampal/Images/XZ_map.PNG)"
   ]
  },
  {
   "cell_type": "markdown",
   "metadata": {
    "papermill": {
     "duration": 0.009616,
     "end_time": "2020-08-21T21:14:02.021951",
     "exception": false,
     "start_time": "2020-08-21T21:14:02.012335",
     "status": "completed"
    },
    "tags": []
   },
   "source": [
    "# Building a new DataBase"
   ]
  },
  {
   "cell_type": "code",
   "execution_count": 6,
   "metadata": {
    "execution": {
     "iopub.execute_input": "2020-08-21T21:14:02.050125Z",
     "iopub.status.busy": "2020-08-21T21:14:02.049343Z",
     "iopub.status.idle": "2020-08-21T21:14:02.052961Z",
     "shell.execute_reply": "2020-08-21T21:14:02.052232Z"
    },
    "papermill": {
     "duration": 0.021207,
     "end_time": "2020-08-21T21:14:02.053086",
     "exception": false,
     "start_time": "2020-08-21T21:14:02.031879",
     "status": "completed"
    },
    "tags": []
   },
   "outputs": [],
   "source": [
    "R_paths = [] \n",
    "L_paths = [] \n",
    "for i in range(1,26) :\n",
    "    if i< 10 : \n",
    "        R_paths.append(f\"../input/mri-images-part-1/HR Label/HR Label/s0{i}_hippolabels_hres_R_MNI.nii\")\n",
    "        L_paths.append(f\"../input/mri-images-part-1/HR Label/HR Label/s0{i}_hippolabels_hres_L_MNI.nii\")\n",
    "    else : \n",
    "        R_paths.append(f\"../input/mri-images-part-1/HR Label/HR Label/s{i}_hippolabels_hres_R_MNI.nii\")\n",
    "        L_paths.append(f\"../input/mri-images-part-1/HR Label/HR Label/s{i}_hippolabels_hres_L_MNI.nii\")"
   ]
  },
  {
   "cell_type": "code",
   "execution_count": 7,
   "metadata": {
    "execution": {
     "iopub.execute_input": "2020-08-21T21:14:02.080705Z",
     "iopub.status.busy": "2020-08-21T21:14:02.079899Z",
     "iopub.status.idle": "2020-08-21T21:14:02.083305Z",
     "shell.execute_reply": "2020-08-21T21:14:02.082473Z"
    },
    "papermill": {
     "duration": 0.020202,
     "end_time": "2020-08-21T21:14:02.083441",
     "exception": false,
     "start_time": "2020-08-21T21:14:02.063239",
     "status": "completed"
    },
    "tags": []
   },
   "outputs": [],
   "source": [
    "HR_path = []\n",
    "for i in range(1,26) :\n",
    "    if i< 10 : \n",
    "        HR_path.append(f\"../input/mri-data-set/mri_dataset/s0{i}/s0{i}_t1w_hires_defaced_MNI.nii\")\n",
    "    elif i < 13 : \n",
    "        HR_path.append(f\"../input/mri-data-set/mri_dataset/s{i}/s{i}_t1w_hires_defaced_MNI.nii\")\n",
    "    else : \n",
    "        HR_path.append(f\"../input/mri-images-part-1/HR/HR/s{i}/s{i}_t1w_hires_defaced_MNI.nii\")"
   ]
  },
  {
   "cell_type": "code",
   "execution_count": 8,
   "metadata": {
    "execution": {
     "iopub.execute_input": "2020-08-21T21:14:02.111139Z",
     "iopub.status.busy": "2020-08-21T21:14:02.110015Z",
     "iopub.status.idle": "2020-08-21T21:14:02.113566Z",
     "shell.execute_reply": "2020-08-21T21:14:02.112917Z"
    },
    "papermill": {
     "duration": 0.020145,
     "end_time": "2020-08-21T21:14:02.113692",
     "exception": false,
     "start_time": "2020-08-21T21:14:02.093547",
     "status": "completed"
    },
    "tags": []
   },
   "outputs": [],
   "source": [
    "LR_path = [] \n",
    "for i in range(1,26) :\n",
    "    if i< 10 : \n",
    "        LR_path.append(f\"../input/mri-images-part-1/MRI DATASET/MRI DATASET/s0{i}/s0{i}_t1w_standard_defaced_MNI.nii\")\n",
    "    else: \n",
    "        LR_path.append(f\"../input/mri-images-part-1/MRI DATASET/MRI DATASET/s{i}/s{i}_t1w_standard_defaced_MNI.nii\")\n"
   ]
  },
  {
   "cell_type": "markdown",
   "metadata": {
    "papermill": {
     "duration": 0.009744,
     "end_time": "2020-08-21T21:14:02.133916",
     "exception": false,
     "start_time": "2020-08-21T21:14:02.124172",
     "status": "completed"
    },
    "tags": []
   },
   "source": [
    "## Left hippocampal Croped images visualization"
   ]
  },
  {
   "cell_type": "code",
   "execution_count": 9,
   "metadata": {
    "execution": {
     "iopub.execute_input": "2020-08-21T21:14:02.171333Z",
     "iopub.status.busy": "2020-08-21T21:14:02.170602Z",
     "iopub.status.idle": "2020-08-21T21:14:08.855370Z",
     "shell.execute_reply": "2020-08-21T21:14:08.854705Z"
    },
    "papermill": {
     "duration": 6.711698,
     "end_time": "2020-08-21T21:14:08.855533",
     "exception": false,
     "start_time": "2020-08-21T21:14:02.143835",
     "status": "completed"
    },
    "tags": []
   },
   "outputs": [],
   "source": [
    "S1_HR =  sitk.ReadImage( HR_path[0] )\n",
    "S1_LR =  sitk.ReadImage(LR_path[0] )\n",
    "S1_LR = sitk.Resample(S1_LR, S1_HR)\n",
    "S1_L_Label = sitk.ReadImage( L_paths[0] ,sitk.sitkInt8)"
   ]
  },
  {
   "cell_type": "code",
   "execution_count": 10,
   "metadata": {
    "execution": {
     "iopub.execute_input": "2020-08-21T21:14:08.883379Z",
     "iopub.status.busy": "2020-08-21T21:14:08.882615Z",
     "iopub.status.idle": "2020-08-21T21:14:08.918287Z",
     "shell.execute_reply": "2020-08-21T21:14:08.918861Z"
    },
    "papermill": {
     "duration": 0.052957,
     "end_time": "2020-08-21T21:14:08.919042",
     "exception": false,
     "start_time": "2020-08-21T21:14:08.866085",
     "status": "completed"
    },
    "tags": []
   },
   "outputs": [],
   "source": [
    "Crop_S1_L = S1_LR[126:226,190:340,90:250]\n",
    "Crop_S1_Label_L = S1_L_Label[126:226,190:340,90:250]"
   ]
  },
  {
   "cell_type": "code",
   "execution_count": 11,
   "metadata": {
    "execution": {
     "iopub.execute_input": "2020-08-21T21:14:08.947465Z",
     "iopub.status.busy": "2020-08-21T21:14:08.946643Z",
     "iopub.status.idle": "2020-08-21T21:14:09.666111Z",
     "shell.execute_reply": "2020-08-21T21:14:09.665324Z"
    },
    "papermill": {
     "duration": 0.73705,
     "end_time": "2020-08-21T21:14:09.666243",
     "exception": false,
     "start_time": "2020-08-21T21:14:08.929193",
     "status": "completed"
    },
    "tags": []
   },
   "outputs": [
    {
     "data": {
      "image/png": "[encoded data removed]",
      "text/plain": [
       "<Figure size 1440x576 with 2 Axes>"
      ]
     },
     "metadata": {
      "needs_background": "light"
     },
     "output_type": "display_data"
    },
    {
     "data": {
      "text/plain": [
       "<function __main__.display_images_with_Label(image_z, alpha, im_orginal, Label)>"
      ]
     },
     "execution_count": 11,
     "metadata": {},
     "output_type": "execute_result"
    }
   ],
   "source": [
    "interact(display_images_with_Label, image_z=(0,Crop_S1_L.GetSize()[2] - 1),alpha = (0.9,1,0.005) , im_orginal = fixed(Crop_S1_L), Label=fixed(Crop_S1_Label_L))"
   ]
  },
  {
   "cell_type": "markdown",
   "metadata": {
    "papermill": {
     "duration": 0.011141,
     "end_time": "2020-08-21T21:14:09.694282",
     "exception": false,
     "start_time": "2020-08-21T21:14:09.683141",
     "status": "completed"
    },
    "tags": []
   },
   "source": [
    "## Building Left hippocampal Dataset"
   ]
  },
  {
   "cell_type": "code",
   "execution_count": 12,
   "metadata": {
    "execution": {
     "iopub.execute_input": "2020-08-21T21:14:09.730239Z",
     "iopub.status.busy": "2020-08-21T21:14:09.729422Z",
     "iopub.status.idle": "2020-08-21T21:14:12.789841Z",
     "shell.execute_reply": "2020-08-21T21:14:12.789127Z"
    },
    "papermill": {
     "duration": 3.08459,
     "end_time": "2020-08-21T21:14:12.789977",
     "exception": false,
     "start_time": "2020-08-21T21:14:09.705387",
     "status": "completed"
    },
    "tags": []
   },
   "outputs": [],
   "source": [
    "!mkdir all_data \n",
    "!mkdir all_data/HR_Left\n",
    "!mkdir all_data/Mask_Left \n",
    "!mkdir all_data/LR_Left"
   ]
  },
  {
   "cell_type": "code",
   "execution_count": 13,
   "metadata": {
    "execution": {
     "iopub.execute_input": "2020-08-21T21:14:12.849693Z",
     "iopub.status.busy": "2020-08-21T21:14:12.825435Z",
     "iopub.status.idle": "2020-08-21T21:16:18.050311Z",
     "shell.execute_reply": "2020-08-21T21:16:18.050947Z"
    },
    "papermill": {
     "duration": 125.249674,
     "end_time": "2020-08-21T21:16:18.051151",
     "exception": false,
     "start_time": "2020-08-21T21:14:12.801477",
     "status": "completed"
    },
    "tags": []
   },
   "outputs": [
    {
     "data": {
      "application/vnd.jupyter.widget-view+json": {
       "model_id": "2125b656c5734be7a0ac2348eb7c5d7b",
       "version_major": 2,
       "version_minor": 0
      },
      "text/plain": [
       "HBox(children=(FloatProgress(value=0.0, max=25.0), HTML(value='')))"
      ]
     },
     "metadata": {},
     "output_type": "display_data"
    },
    {
     "name": "stdout",
     "output_type": "stream",
     "text": [
      "\n"
     ]
    }
   ],
   "source": [
    "for i in tqdm(range(len(HR_path)) ): \n",
    "   \n",
    "    S1_HR =  sitk.ReadImage( HR_path[i] )\n",
    "    S1_LR =  sitk.ReadImage( LR_path[i] )\n",
    "    S1_LR =  sitk.Resample(S1_LR, S1_HR)\n",
    "    \n",
    "    S1_L_Label = sitk.ReadImage( L_paths[i] ,sitk.sitkInt8)[126:226,190:340,90:250]\n",
    "    S1_LR = S1_LR[126:226,190:340,90:250]\n",
    "    S1_HR = S1_HR[126:226,190:340,90:250]\n",
    "   \n",
    "    writer = sitk.ImageFileWriter()\n",
    "    writer.SetFileName(f'all_data/HR_Left/S{i+1}_HR_Left.nii')\n",
    "    writer.Execute(S1_HR)\n",
    "    \n",
    "    writer = sitk.ImageFileWriter()\n",
    "    writer.SetFileName(f'all_data/LR_Left/S{i+1}_LR_Left.nii')\n",
    "    writer.Execute(S1_LR)\n",
    "    \n",
    "    writer = sitk.ImageFileWriter()\n",
    "    writer.SetFileName(f'all_data/Mask_Left/S{i+1}_Mask_Left.nii')\n",
    "    writer.Execute(S1_L_Label)"
   ]
  },
  {
   "cell_type": "code",
   "execution_count": 14,
   "metadata": {
    "execution": {
     "iopub.execute_input": "2020-08-21T21:16:18.192720Z",
     "iopub.status.busy": "2020-08-21T21:16:18.191663Z",
     "iopub.status.idle": "2020-08-21T21:16:18.195149Z",
     "shell.execute_reply": "2020-08-21T21:16:18.195720Z"
    },
    "papermill": {
     "duration": 0.129621,
     "end_time": "2020-08-21T21:16:18.195883",
     "exception": false,
     "start_time": "2020-08-21T21:16:18.066262",
     "status": "completed"
    },
    "tags": []
   },
   "outputs": [
    {
     "data": {
      "text/plain": [
       "4652"
      ]
     },
     "execution_count": 14,
     "metadata": {},
     "output_type": "execute_result"
    }
   ],
   "source": [
    "gc.collect()"
   ]
  },
  {
   "cell_type": "markdown",
   "metadata": {
    "papermill": {
     "duration": 0.011016,
     "end_time": "2020-08-21T21:16:18.218230",
     "exception": false,
     "start_time": "2020-08-21T21:16:18.207214",
     "status": "completed"
    },
    "tags": []
   },
   "source": [
    "## Right hippocampal Croped images visualization"
   ]
  },
  {
   "cell_type": "code",
   "execution_count": 15,
   "metadata": {
    "execution": {
     "iopub.execute_input": "2020-08-21T21:16:18.248953Z",
     "iopub.status.busy": "2020-08-21T21:16:18.247989Z",
     "iopub.status.idle": "2020-08-21T21:16:22.384005Z",
     "shell.execute_reply": "2020-08-21T21:16:22.384627Z"
    },
    "papermill": {
     "duration": 4.155469,
     "end_time": "2020-08-21T21:16:22.384814",
     "exception": false,
     "start_time": "2020-08-21T21:16:18.229345",
     "status": "completed"
    },
    "tags": []
   },
   "outputs": [],
   "source": [
    "S1_HR =  sitk.ReadImage( HR_path[0] )\n",
    "S1_LR =  sitk.ReadImage(LR_path[0] )\n",
    "S1_LR = sitk.Resample(S1_LR, S1_HR)\n",
    "S1_R_Label = sitk.ReadImage( R_paths[0] ,sitk.sitkInt8)\n",
    "\n",
    "Crop_S1_R = S1_LR[226:326,190:340,90:250]\n",
    "Crop_S1_Label_R = S1_R_Label[226:326,190:340,90:250]"
   ]
  },
  {
   "cell_type": "code",
   "execution_count": 16,
   "metadata": {
    "execution": {
     "iopub.execute_input": "2020-08-21T21:16:22.415203Z",
     "iopub.status.busy": "2020-08-21T21:16:22.414190Z",
     "iopub.status.idle": "2020-08-21T21:16:22.909761Z",
     "shell.execute_reply": "2020-08-21T21:16:22.909127Z"
    },
    "papermill": {
     "duration": 0.513499,
     "end_time": "2020-08-21T21:16:22.909890",
     "exception": false,
     "start_time": "2020-08-21T21:16:22.396391",
     "status": "completed"
    },
    "tags": []
   },
   "outputs": [
    {
     "data": {
      "image/png": "[encoded data removed]",
      "text/plain": [
       "<Figure size 1440x576 with 2 Axes>"
      ]
     },
     "metadata": {
      "needs_background": "light"
     },
     "output_type": "display_data"
    },
    {
     "data": {
      "text/plain": [
       "<function __main__.display_images_with_Label(image_z, alpha, im_orginal, Label)>"
      ]
     },
     "execution_count": 16,
     "metadata": {},
     "output_type": "execute_result"
    }
   ],
   "source": [
    "interact(display_images_with_Label, image_z=(0,Crop_S1_R.GetSize()[2] - 1),alpha = (0.9,1,0.005) , im_orginal = fixed(Crop_S1_R), Label=fixed(Crop_S1_Label_R))"
   ]
  },
  {
   "cell_type": "markdown",
   "metadata": {
    "papermill": {
     "duration": 0.011881,
     "end_time": "2020-08-21T21:16:22.934426",
     "exception": false,
     "start_time": "2020-08-21T21:16:22.922545",
     "status": "completed"
    },
    "tags": []
   },
   "source": [
    "## Building Right hippocampal Dataset"
   ]
  },
  {
   "cell_type": "code",
   "execution_count": 17,
   "metadata": {
    "execution": {
     "iopub.execute_input": "2020-08-21T21:16:22.967994Z",
     "iopub.status.busy": "2020-08-21T21:16:22.967010Z",
     "iopub.status.idle": "2020-08-21T21:16:25.256777Z",
     "shell.execute_reply": "2020-08-21T21:16:25.257386Z"
    },
    "papermill": {
     "duration": 2.310894,
     "end_time": "2020-08-21T21:16:25.257578",
     "exception": false,
     "start_time": "2020-08-21T21:16:22.946684",
     "status": "completed"
    },
    "tags": []
   },
   "outputs": [],
   "source": [
    "!mkdir all_data/HR_right\n",
    "!mkdir all_data/Mask_right\n",
    "!mkdir all_data/LR_right"
   ]
  },
  {
   "cell_type": "code",
   "execution_count": 18,
   "metadata": {
    "execution": {
     "iopub.execute_input": "2020-08-21T21:16:25.319026Z",
     "iopub.status.busy": "2020-08-21T21:16:25.295196Z",
     "iopub.status.idle": "2020-08-21T21:18:08.909680Z",
     "shell.execute_reply": "2020-08-21T21:18:08.910348Z"
    },
    "papermill": {
     "duration": 103.640513,
     "end_time": "2020-08-21T21:18:08.910569",
     "exception": false,
     "start_time": "2020-08-21T21:16:25.270056",
     "status": "completed"
    },
    "tags": []
   },
   "outputs": [
    {
     "data": {
      "application/vnd.jupyter.widget-view+json": {
       "model_id": "fffe2c219c1e42989b5b7359aa5292ba",
       "version_major": 2,
       "version_minor": 0
      },
      "text/plain": [
       "HBox(children=(FloatProgress(value=0.0, max=25.0), HTML(value='')))"
      ]
     },
     "metadata": {},
     "output_type": "display_data"
    },
    {
     "name": "stdout",
     "output_type": "stream",
     "text": [
      "\n"
     ]
    }
   ],
   "source": [
    "for i in tqdm(range(len(HR_path)) ): \n",
    "   \n",
    "    S1_HR =  sitk.ReadImage( HR_path[i] )\n",
    "    S1_LR =  sitk.ReadImage( LR_path[i] )\n",
    "    S1_LR =  sitk.Resample(S1_LR, S1_HR)\n",
    "    \n",
    "    S1_R_Label = sitk.ReadImage( R_paths[i] ,sitk.sitkInt8)[226:326,190:340,90:250]\n",
    "    S1_LR = S1_LR[226:326,190:340,90:250]\n",
    "    S1_HR = S1_HR[226:326,190:340,90:250]\n",
    "   \n",
    "    writer = sitk.ImageFileWriter()\n",
    "    writer.SetFileName(f'all_data/HR_right/S{i+1}_HR_right.nii')\n",
    "    writer.Execute(S1_HR)\n",
    "    \n",
    "    writer = sitk.ImageFileWriter()\n",
    "    writer.SetFileName(f'all_data/LR_right/S{i+1}_LR_right.nii')\n",
    "    writer.Execute(S1_LR)\n",
    "    \n",
    "    writer = sitk.ImageFileWriter()\n",
    "    writer.SetFileName(f'all_data/Mask_right/S{i+1}_Mask_Right.nii')\n",
    "    writer.Execute(S1_R_Label)"
   ]
  },
  {
   "cell_type": "markdown",
   "metadata": {
    "papermill": {
     "duration": 0.012347,
     "end_time": "2020-08-21T21:18:08.935640",
     "exception": false,
     "start_time": "2020-08-21T21:18:08.923293",
     "status": "completed"
    },
    "tags": []
   },
   "source": [
    "# 5-FOLDS SUBJECTS SPLITTING "
   ]
  },
  {
   "cell_type": "code",
   "execution_count": 2,
   "metadata": {
    "execution": {
     "iopub.execute_input": "2020-08-21T21:18:08.989837Z",
     "iopub.status.busy": "2020-08-21T21:18:08.975315Z",
     "iopub.status.idle": "2020-08-21T21:18:09.023066Z",
     "shell.execute_reply": "2020-08-21T21:18:09.022298Z"
    },
    "papermill": {
     "duration": 0.074911,
     "end_time": "2020-08-21T21:18:09.023197",
     "exception": false,
     "start_time": "2020-08-21T21:18:08.948286",
     "status": "completed"
    },
    "tags": []
   },
   "outputs": [
    {
     "data": {
      "text/html": [
       "<div>\n",
       "<style scoped>\n",
       "    .dataframe tbody tr th:only-of-type {\n",
       "        vertical-align: middle;\n",
       "    }\n",
       "\n",
       "    .dataframe tbody tr th {\n",
       "        vertical-align: top;\n",
       "    }\n",
       "\n",
       "    .dataframe thead th {\n",
       "        text-align: right;\n",
       "    }\n",
       "</style>\n",
       "<table border=\"1\" class=\"dataframe\">\n",
       "  <thead>\n",
       "    <tr style=\"text-align: right;\">\n",
       "      <th></th>\n",
       "      <th>HR_Left_path</th>\n",
       "      <th>HR_Right_path</th>\n",
       "      <th>HRL_L_path</th>\n",
       "      <th>HRR_L_path</th>\n",
       "      <th>LR_Left_path</th>\n",
       "      <th>LR_Right_path</th>\n",
       "      <th>Subject_num</th>\n",
       "    </tr>\n",
       "  </thead>\n",
       "  <tbody>\n",
       "    <tr>\n",
       "      <th>0</th>\n",
       "      <td>input/hippocampal-croped-mri/all_data/HR_Left/...</td>\n",
       "      <td>input/hippocampal-croped-mri/all_data/HR_right...</td>\n",
       "      <td>input/hippocampal-croped-mri/all_data/Mask_Lef...</td>\n",
       "      <td>input/hippocampal-croped-mri/all_data/Mask_rig...</td>\n",
       "      <td>input/hippocampal-croped-mri/all_data/LR_Left/...</td>\n",
       "      <td>input/hippocampal-croped-mri/all_data/LR_right...</td>\n",
       "      <td>1</td>\n",
       "    </tr>\n",
       "    <tr>\n",
       "      <th>1</th>\n",
       "      <td>input/hippocampal-croped-mri/all_data/HR_Left/...</td>\n",
       "      <td>input/hippocampal-croped-mri/all_data/HR_right...</td>\n",
       "      <td>input/hippocampal-croped-mri/all_data/Mask_Lef...</td>\n",
       "      <td>input/hippocampal-croped-mri/all_data/Mask_rig...</td>\n",
       "      <td>input/hippocampal-croped-mri/all_data/LR_Left/...</td>\n",
       "      <td>input/hippocampal-croped-mri/all_data/LR_right...</td>\n",
       "      <td>2</td>\n",
       "    </tr>\n",
       "    <tr>\n",
       "      <th>2</th>\n",
       "      <td>input/hippocampal-croped-mri/all_data/HR_Left/...</td>\n",
       "      <td>input/hippocampal-croped-mri/all_data/HR_right...</td>\n",
       "      <td>input/hippocampal-croped-mri/all_data/Mask_Lef...</td>\n",
       "      <td>input/hippocampal-croped-mri/all_data/Mask_rig...</td>\n",
       "      <td>input/hippocampal-croped-mri/all_data/LR_Left/...</td>\n",
       "      <td>input/hippocampal-croped-mri/all_data/LR_right...</td>\n",
       "      <td>3</td>\n",
       "    </tr>\n",
       "    <tr>\n",
       "      <th>3</th>\n",
       "      <td>input/hippocampal-croped-mri/all_data/HR_Left/...</td>\n",
       "      <td>input/hippocampal-croped-mri/all_data/HR_right...</td>\n",
       "      <td>input/hippocampal-croped-mri/all_data/Mask_Lef...</td>\n",
       "      <td>input/hippocampal-croped-mri/all_data/Mask_rig...</td>\n",
       "      <td>input/hippocampal-croped-mri/all_data/LR_Left/...</td>\n",
       "      <td>input/hippocampal-croped-mri/all_data/LR_right...</td>\n",
       "      <td>4</td>\n",
       "    </tr>\n",
       "    <tr>\n",
       "      <th>4</th>\n",
       "      <td>input/hippocampal-croped-mri/all_data/HR_Left/...</td>\n",
       "      <td>input/hippocampal-croped-mri/all_data/HR_right...</td>\n",
       "      <td>input/hippocampal-croped-mri/all_data/Mask_Lef...</td>\n",
       "      <td>input/hippocampal-croped-mri/all_data/Mask_rig...</td>\n",
       "      <td>input/hippocampal-croped-mri/all_data/LR_Left/...</td>\n",
       "      <td>input/hippocampal-croped-mri/all_data/LR_right...</td>\n",
       "      <td>5</td>\n",
       "    </tr>\n",
       "  </tbody>\n",
       "</table>\n",
       "</div>"
      ],
      "text/plain": [
       "                                        HR_Left_path  \\\n",
       "0  input/hippocampal-croped-mri/all_data/HR_Left/...   \n",
       "1  input/hippocampal-croped-mri/all_data/HR_Left/...   \n",
       "2  input/hippocampal-croped-mri/all_data/HR_Left/...   \n",
       "3  input/hippocampal-croped-mri/all_data/HR_Left/...   \n",
       "4  input/hippocampal-croped-mri/all_data/HR_Left/...   \n",
       "\n",
       "                                       HR_Right_path  \\\n",
       "0  input/hippocampal-croped-mri/all_data/HR_right...   \n",
       "1  input/hippocampal-croped-mri/all_data/HR_right...   \n",
       "2  input/hippocampal-croped-mri/all_data/HR_right...   \n",
       "3  input/hippocampal-croped-mri/all_data/HR_right...   \n",
       "4  input/hippocampal-croped-mri/all_data/HR_right...   \n",
       "\n",
       "                                          HRL_L_path  \\\n",
       "0  input/hippocampal-croped-mri/all_data/Mask_Lef...   \n",
       "1  input/hippocampal-croped-mri/all_data/Mask_Lef...   \n",
       "2  input/hippocampal-croped-mri/all_data/Mask_Lef...   \n",
       "3  input/hippocampal-croped-mri/all_data/Mask_Lef...   \n",
       "4  input/hippocampal-croped-mri/all_data/Mask_Lef...   \n",
       "\n",
       "                                          HRR_L_path  \\\n",
       "0  input/hippocampal-croped-mri/all_data/Mask_rig...   \n",
       "1  input/hippocampal-croped-mri/all_data/Mask_rig...   \n",
       "2  input/hippocampal-croped-mri/all_data/Mask_rig...   \n",
       "3  input/hippocampal-croped-mri/all_data/Mask_rig...   \n",
       "4  input/hippocampal-croped-mri/all_data/Mask_rig...   \n",
       "\n",
       "                                        LR_Left_path  \\\n",
       "0  input/hippocampal-croped-mri/all_data/LR_Left/...   \n",
       "1  input/hippocampal-croped-mri/all_data/LR_Left/...   \n",
       "2  input/hippocampal-croped-mri/all_data/LR_Left/...   \n",
       "3  input/hippocampal-croped-mri/all_data/LR_Left/...   \n",
       "4  input/hippocampal-croped-mri/all_data/LR_Left/...   \n",
       "\n",
       "                                       LR_Right_path  Subject_num  \n",
       "0  input/hippocampal-croped-mri/all_data/LR_right...            1  \n",
       "1  input/hippocampal-croped-mri/all_data/LR_right...            2  \n",
       "2  input/hippocampal-croped-mri/all_data/LR_right...            3  \n",
       "3  input/hippocampal-croped-mri/all_data/LR_right...            4  \n",
       "4  input/hippocampal-croped-mri/all_data/LR_right...            5  "
      ]
     },
     "execution_count": 2,
     "metadata": {},
     "output_type": "execute_result"
    }
   ],
   "source": [
    "subjects = pd.DataFrame() \n",
    "subjects['HR_Left_path']  = [f'input/hippocampal-croped-mri/all_data/HR_Left/S{i}_HR_Left.nii' for i in range(1,26)]\n",
    "subjects['HR_Right_path'] = [f'input/hippocampal-croped-mri/all_data/HR_right/S{i}_HR_right.nii' for i in range(1,26)]\n",
    "\n",
    "subjects['HRL_L_path']    = [f'input/hippocampal-croped-mri/all_data/Mask_Left/S{i}_Mask_Left.nii' for i in range(1,26)] \n",
    "subjects['HRR_L_path']    = [f'input/hippocampal-croped-mri/all_data/Mask_right/S{i}_Mask_Right.nii' for i in range(1,26)]\n",
    "\n",
    "subjects['LR_Left_path']  = [f'input/hippocampal-croped-mri/all_data/LR_Left/S{i}_LR_Left.nii' for i in range(1,26)]\n",
    "subjects['LR_Right_path'] = [f'input/hippocampal-croped-mri/all_data/LR_right/S{i}_LR_right.nii' for i in range(1,26)]\n",
    "\n",
    "\n",
    "subjects['Subject_num'] = [ i for i in range(1,26) ]\n",
    "subjects.head()"
   ]
  },
  {
   "cell_type": "code",
   "execution_count": 5,
   "metadata": {
    "execution": {
     "iopub.execute_input": "2020-08-21T21:18:09.059642Z",
     "iopub.status.busy": "2020-08-21T21:18:09.058758Z",
     "iopub.status.idle": "2020-08-21T21:18:09.483142Z",
     "shell.execute_reply": "2020-08-21T21:18:09.483730Z"
    },
    "papermill": {
     "duration": 0.447599,
     "end_time": "2020-08-21T21:18:09.483896",
     "exception": false,
     "start_time": "2020-08-21T21:18:09.036297",
     "status": "completed"
    },
    "tags": []
   },
   "outputs": [
    {
     "name": "stdout",
     "output_type": "stream",
     "text": [
      "number of slice is  159\n"
     ]
    },
    {
     "data": {
      "application/vnd.jupyter.widget-view+json": {
       "model_id": "5ac659ce647e4777ad663b776fa6c187",
       "version_major": 2,
       "version_minor": 0
      },
      "text/plain": [
       "HBox(children=(FloatProgress(value=0.0, max=158.0), HTML(value='')))"
      ]
     },
     "metadata": {},
     "output_type": "display_data"
    },
    {
     "name": "stdout",
     "output_type": "stream",
     "text": [
      "\n",
      "number of slice  in the DataFrame  is 159\n"
     ]
    },
    {
     "data": {
      "text/html": [
       "<div>\n",
       "<style scoped>\n",
       "    .dataframe tbody tr th:only-of-type {\n",
       "        vertical-align: middle;\n",
       "    }\n",
       "\n",
       "    .dataframe tbody tr th {\n",
       "        vertical-align: top;\n",
       "    }\n",
       "\n",
       "    .dataframe thead th {\n",
       "        text-align: right;\n",
       "    }\n",
       "</style>\n",
       "<table border=\"1\" class=\"dataframe\">\n",
       "  <thead>\n",
       "    <tr style=\"text-align: right;\">\n",
       "      <th></th>\n",
       "      <th>HR_Left_path</th>\n",
       "      <th>HR_Right_path</th>\n",
       "      <th>HRL_L_path</th>\n",
       "      <th>HRR_L_path</th>\n",
       "      <th>LR_Left_path</th>\n",
       "      <th>LR_Right_path</th>\n",
       "      <th>Subject_num</th>\n",
       "      <th>slice</th>\n",
       "    </tr>\n",
       "  </thead>\n",
       "  <tbody>\n",
       "    <tr>\n",
       "      <th>0</th>\n",
       "      <td>input/hippocampal-croped-mri/all_data/HR_Left/...</td>\n",
       "      <td>input/hippocampal-croped-mri/all_data/HR_right...</td>\n",
       "      <td>input/hippocampal-croped-mri/all_data/Mask_Lef...</td>\n",
       "      <td>input/hippocampal-croped-mri/all_data/Mask_rig...</td>\n",
       "      <td>input/hippocampal-croped-mri/all_data/LR_Left/...</td>\n",
       "      <td>input/hippocampal-croped-mri/all_data/LR_right...</td>\n",
       "      <td>1</td>\n",
       "      <td>0</td>\n",
       "    </tr>\n",
       "    <tr>\n",
       "      <th>1</th>\n",
       "      <td>input/hippocampal-croped-mri/all_data/HR_Left/...</td>\n",
       "      <td>input/hippocampal-croped-mri/all_data/HR_right...</td>\n",
       "      <td>input/hippocampal-croped-mri/all_data/Mask_Lef...</td>\n",
       "      <td>input/hippocampal-croped-mri/all_data/Mask_rig...</td>\n",
       "      <td>input/hippocampal-croped-mri/all_data/LR_Left/...</td>\n",
       "      <td>input/hippocampal-croped-mri/all_data/LR_right...</td>\n",
       "      <td>2</td>\n",
       "      <td>0</td>\n",
       "    </tr>\n",
       "    <tr>\n",
       "      <th>2</th>\n",
       "      <td>input/hippocampal-croped-mri/all_data/HR_Left/...</td>\n",
       "      <td>input/hippocampal-croped-mri/all_data/HR_right...</td>\n",
       "      <td>input/hippocampal-croped-mri/all_data/Mask_Lef...</td>\n",
       "      <td>input/hippocampal-croped-mri/all_data/Mask_rig...</td>\n",
       "      <td>input/hippocampal-croped-mri/all_data/LR_Left/...</td>\n",
       "      <td>input/hippocampal-croped-mri/all_data/LR_right...</td>\n",
       "      <td>3</td>\n",
       "      <td>0</td>\n",
       "    </tr>\n",
       "    <tr>\n",
       "      <th>3</th>\n",
       "      <td>input/hippocampal-croped-mri/all_data/HR_Left/...</td>\n",
       "      <td>input/hippocampal-croped-mri/all_data/HR_right...</td>\n",
       "      <td>input/hippocampal-croped-mri/all_data/Mask_Lef...</td>\n",
       "      <td>input/hippocampal-croped-mri/all_data/Mask_rig...</td>\n",
       "      <td>input/hippocampal-croped-mri/all_data/LR_Left/...</td>\n",
       "      <td>input/hippocampal-croped-mri/all_data/LR_right...</td>\n",
       "      <td>4</td>\n",
       "      <td>0</td>\n",
       "    </tr>\n",
       "    <tr>\n",
       "      <th>4</th>\n",
       "      <td>input/hippocampal-croped-mri/all_data/HR_Left/...</td>\n",
       "      <td>input/hippocampal-croped-mri/all_data/HR_right...</td>\n",
       "      <td>input/hippocampal-croped-mri/all_data/Mask_Lef...</td>\n",
       "      <td>input/hippocampal-croped-mri/all_data/Mask_rig...</td>\n",
       "      <td>input/hippocampal-croped-mri/all_data/LR_Left/...</td>\n",
       "      <td>input/hippocampal-croped-mri/all_data/LR_right...</td>\n",
       "      <td>5</td>\n",
       "      <td>0</td>\n",
       "    </tr>\n",
       "  </tbody>\n",
       "</table>\n",
       "</div>"
      ],
      "text/plain": [
       "                                        HR_Left_path  \\\n",
       "0  input/hippocampal-croped-mri/all_data/HR_Left/...   \n",
       "1  input/hippocampal-croped-mri/all_data/HR_Left/...   \n",
       "2  input/hippocampal-croped-mri/all_data/HR_Left/...   \n",
       "3  input/hippocampal-croped-mri/all_data/HR_Left/...   \n",
       "4  input/hippocampal-croped-mri/all_data/HR_Left/...   \n",
       "\n",
       "                                       HR_Right_path  \\\n",
       "0  input/hippocampal-croped-mri/all_data/HR_right...   \n",
       "1  input/hippocampal-croped-mri/all_data/HR_right...   \n",
       "2  input/hippocampal-croped-mri/all_data/HR_right...   \n",
       "3  input/hippocampal-croped-mri/all_data/HR_right...   \n",
       "4  input/hippocampal-croped-mri/all_data/HR_right...   \n",
       "\n",
       "                                          HRL_L_path  \\\n",
       "0  input/hippocampal-croped-mri/all_data/Mask_Lef...   \n",
       "1  input/hippocampal-croped-mri/all_data/Mask_Lef...   \n",
       "2  input/hippocampal-croped-mri/all_data/Mask_Lef...   \n",
       "3  input/hippocampal-croped-mri/all_data/Mask_Lef...   \n",
       "4  input/hippocampal-croped-mri/all_data/Mask_Lef...   \n",
       "\n",
       "                                          HRR_L_path  \\\n",
       "0  input/hippocampal-croped-mri/all_data/Mask_rig...   \n",
       "1  input/hippocampal-croped-mri/all_data/Mask_rig...   \n",
       "2  input/hippocampal-croped-mri/all_data/Mask_rig...   \n",
       "3  input/hippocampal-croped-mri/all_data/Mask_rig...   \n",
       "4  input/hippocampal-croped-mri/all_data/Mask_rig...   \n",
       "\n",
       "                                        LR_Left_path  \\\n",
       "0  input/hippocampal-croped-mri/all_data/LR_Left/...   \n",
       "1  input/hippocampal-croped-mri/all_data/LR_Left/...   \n",
       "2  input/hippocampal-croped-mri/all_data/LR_Left/...   \n",
       "3  input/hippocampal-croped-mri/all_data/LR_Left/...   \n",
       "4  input/hippocampal-croped-mri/all_data/LR_Left/...   \n",
       "\n",
       "                                       LR_Right_path  Subject_num  slice  \n",
       "0  input/hippocampal-croped-mri/all_data/LR_right...            1      0  \n",
       "1  input/hippocampal-croped-mri/all_data/LR_right...            2      0  \n",
       "2  input/hippocampal-croped-mri/all_data/LR_right...            3      0  \n",
       "3  input/hippocampal-croped-mri/all_data/LR_right...            4      0  \n",
       "4  input/hippocampal-croped-mri/all_data/LR_right...            5      0  "
      ]
     },
     "execution_count": 5,
     "metadata": {},
     "output_type": "execute_result"
    }
   ],
   "source": [
    "example = sitk.ReadImage('input/hippocampal-croped-mri/all_data/Mask_Left/S10_Mask_Left.nii') \n",
    "n = example.GetSize()[2]-1\n",
    "print('number of slice is ', n )\n",
    "data = subjects.copy() \n",
    "data['slice'] = 0 \n",
    "for i in tqdm(range(1,n))  : \n",
    "    x = subjects.copy() \n",
    "    x['slice'] =i \n",
    "    data = data.append(x)\n",
    "print('number of slice  in the DataFrame  is' , data['slice'].nunique())\n",
    "data.head()\n"
   ]
  },
  {
   "cell_type": "code",
   "execution_count": 6,
   "metadata": {
    "execution": {
     "iopub.execute_input": "2020-08-21T21:18:09.525982Z",
     "iopub.status.busy": "2020-08-21T21:18:09.525188Z",
     "iopub.status.idle": "2020-08-21T21:18:09.564883Z",
     "shell.execute_reply": "2020-08-21T21:18:09.563951Z"
    },
    "papermill": {
     "duration": 0.067221,
     "end_time": "2020-08-21T21:18:09.565032",
     "exception": false,
     "start_time": "2020-08-21T21:18:09.497811",
     "status": "completed"
    },
    "tags": []
   },
   "outputs": [
    {
     "name": "stdout",
     "output_type": "stream",
     "text": [
      "fold subjects  0   [ 9  5 10 23 18]\n",
      "fold subjects  1   [ 1 16 22  2  8]\n",
      "fold subjects  2   [11 14 12 21 15]\n",
      "fold subjects  3   [25  6 24 17  4]\n",
      "fold subjects  4   [19 20 13  7  3]\n"
     ]
    }
   ],
   "source": [
    "all_subjects =  [ i for i in range(1,26) ]\n",
    "data[\"kfold\"] = -1    \n",
    "data = data.sample(frac=1).reset_index(drop=True)\n",
    "\n",
    "subjects = pd.DataFrame()\n",
    "subjects['subjects'] = all_subjects\n",
    "subjects = subjects.sample(frac=1).reset_index(drop=True)\n",
    "\n",
    "kf = model_selection.KFold(n_splits=5)\n",
    "\n",
    "for f, (t_, v_) in enumerate(kf.split(X=subjects)):\n",
    "    print('fold subjects ',f,' ', subjects.loc[v_,'subjects'].values)\n",
    "    index =  data[data['Subject_num'].isin(subjects.loc[v_,'subjects'].values)].index\n",
    "    data.loc[index,'kfold'] = f"
   ]
  },
  {
   "cell_type": "code",
   "execution_count": 7,
   "metadata": {
    "execution": {
     "iopub.execute_input": "2020-08-21T21:18:09.597770Z",
     "iopub.status.busy": "2020-08-21T21:18:09.596978Z",
     "iopub.status.idle": "2020-08-21T21:18:09.909033Z",
     "shell.execute_reply": "2020-08-21T21:18:09.908173Z"
    },
    "papermill": {
     "duration": 0.330309,
     "end_time": "2020-08-21T21:18:09.909204",
     "exception": false,
     "start_time": "2020-08-21T21:18:09.578895",
     "status": "completed"
    },
    "tags": []
   },
   "outputs": [],
   "source": [
    "data.to_csv('data_5fold.csv')"
   ]
  }
 ],
 "metadata": {
  "kernelspec": {
   "display_name": "Python 3",
   "language": "python",
   "name": "python3"
  },
  "language_info": {
   "codemirror_mode": {
    "name": "ipython",
    "version": 3
   },
   "file_extension": ".py",
   "mimetype": "text/x-python",
   "name": "python",
   "nbconvert_exporter": "python",
   "pygments_lexer": "ipython3",
   "version": "3.7.6"
  },
  "papermill": {
   "duration": 256.012494,
   "end_time": "2020-08-21T21:18:10.961664",
   "environment_variables": {},
   "exception": null,
   "input_path": "__notebook__.ipynb",
   "output_path": "__notebook__.ipynb",
   "parameters": {},
   "start_time": "2020-08-21T21:13:54.949170",
   "version": "2.1.0"
  },
  "widgets": {
   "application/vnd.jupyter.widget-state+json": {
    "state": {
     "03cb6b1afcf14d78b76549d06c7c89f7": {
      "model_module": "@jupyter-widgets/base",
      "model_module_version": "1.2.0",
      "model_name": "LayoutModel",
      "state": {
       "_model_module": "@jupyter-widgets/base",
       "_model_module_version": "1.2.0",
       "_model_name": "LayoutModel",
       "_view_count": null,
       "_view_module": "@jupyter-widgets/base",
       "_view_module_version": "1.2.0",
       "_view_name": "LayoutView",
       "align_content": null,
       "align_items": null,
       "align_self": null,
       "border": null,
       "bottom": null,
       "display": null,
       "flex": null,
       "flex_flow": null,
       "grid_area": null,
       "grid_auto_columns": null,
       "grid_auto_flow": null,
       "grid_auto_rows": null,
       "grid_column": null,
       "grid_gap": null,
       "grid_row": null,
       "grid_template_areas": null,
       "grid_template_columns": null,
       "grid_template_rows": null,
       "height": null,
       "justify_content": null,
       "justify_items": null,
       "left": null,
       "margin": null,
       "max_height": null,
       "max_width": null,
       "min_height": null,
       "min_width": null,
       "object_fit": null,
       "object_position": null,
       "order": null,
       "overflow": null,
       "overflow_x": null,
       "overflow_y": null,
       "padding": null,
       "right": null,
       "top": null,
       "visibility": null,
       "width": null
      }
     },
     "0a19cdfb181c47768e0c4a1219c0eaa3": {
      "model_module": "@jupyter-widgets/base",
      "model_module_version": "1.2.0",
      "model_name": "LayoutModel",
      "state": {
       "_model_module": "@jupyter-widgets/base",
       "_model_module_version": "1.2.0",
       "_model_name": "LayoutModel",
       "_view_count": null,
       "_view_module": "@jupyter-widgets/base",
       "_view_module_version": "1.2.0",
       "_view_name": "LayoutView",
       "align_content": null,
       "align_items": null,
       "align_self": null,
       "border": null,
       "bottom": null,
       "display": null,
       "flex": null,
       "flex_flow": null,
       "grid_area": null,
       "grid_auto_columns": null,
       "grid_auto_flow": null,
       "grid_auto_rows": null,
       "grid_column": null,
       "grid_gap": null,
       "grid_row": null,
       "grid_template_areas": null,
       "grid_template_columns": null,
       "grid_template_rows": null,
       "height": null,
       "justify_content": null,
       "justify_items": null,
       "left": null,
       "margin": null,
       "max_height": null,
       "max_width": null,
       "min_height": null,
       "min_width": null,
       "object_fit": null,
       "object_position": null,
       "order": null,
       "overflow": null,
       "overflow_x": null,
       "overflow_y": null,
       "padding": null,
       "right": null,
       "top": null,
       "visibility": null,
       "width": null
      }
     },
     "1160dfec70c749b89c2174cb55e63578": {
      "model_module": "@jupyter-widgets/controls",
      "model_module_version": "1.5.0",
      "model_name": "ProgressStyleModel",
      "state": {
       "_model_module": "@jupyter-widgets/controls",
       "_model_module_version": "1.5.0",
       "_model_name": "ProgressStyleModel",
       "_view_count": null,
       "_view_module": "@jupyter-widgets/base",
       "_view_module_version": "1.2.0",
       "_view_name": "StyleView",
       "bar_color": null,
       "description_width": "initial"
      }
     },
     "1b2afbdd4ef34885a765aeae6cef7c53": {
      "model_module": "@jupyter-widgets/controls",
      "model_module_version": "1.5.0",
      "model_name": "HTMLModel",
      "state": {
       "_dom_classes": [],
       "_model_module": "@jupyter-widgets/controls",
       "_model_module_version": "1.5.0",
       "_model_name": "HTMLModel",
       "_view_count": null,
       "_view_module": "@jupyter-widgets/controls",
       "_view_module_version": "1.5.0",
       "_view_name": "HTMLView",
       "description": "",
       "description_tooltip": null,
       "layout": "IPY_MODEL_be3f32e1bf2443c0b4140798353e7d5d",
       "placeholder": "​",
       "style": "IPY_MODEL_fce14bcb8ec64bf2b8fd3e02f5c81a49",
       "value": " 158/158 [00:00&lt;00:00, 263.03it/s]"
      }
     },
     "2029212896524d5fb8d219393dddeac3": {
      "model_module": "@jupyter-widgets/controls",
      "model_module_version": "1.5.0",
      "model_name": "FloatProgressModel",
      "state": {
       "_dom_classes": [],
       "_model_module": "@jupyter-widgets/controls",
       "_model_module_version": "1.5.0",
       "_model_name": "FloatProgressModel",
       "_view_count": null,
       "_view_module": "@jupyter-widgets/controls",
       "_view_module_version": "1.5.0",
       "_view_name": "ProgressView",
       "bar_style": "success",
       "description": "100%",
       "description_tooltip": null,
       "layout": "IPY_MODEL_03cb6b1afcf14d78b76549d06c7c89f7",
       "max": 158,
       "min": 0,
       "orientation": "horizontal",
       "style": "IPY_MODEL_1160dfec70c749b89c2174cb55e63578",
       "value": 158
      }
     },
     "2125b656c5734be7a0ac2348eb7c5d7b": {
      "model_module": "@jupyter-widgets/controls",
      "model_module_version": "1.5.0",
      "model_name": "HBoxModel",
      "state": {
       "_dom_classes": [],
       "_model_module": "@jupyter-widgets/controls",
       "_model_module_version": "1.5.0",
       "_model_name": "HBoxModel",
       "_view_count": null,
       "_view_module": "@jupyter-widgets/controls",
       "_view_module_version": "1.5.0",
       "_view_name": "HBoxView",
       "box_style": "",
       "children": [
        "IPY_MODEL_2946ba0b21954f04a5d5e5fbbacbb702",
        "IPY_MODEL_857aafe0b24c4b21994f9c4ea6452e56"
       ],
       "layout": "IPY_MODEL_b246498cc53f43e497f2c8f28903cc20"
      }
     },
     "2946ba0b21954f04a5d5e5fbbacbb702": {
      "model_module": "@jupyter-widgets/controls",
      "model_module_version": "1.5.0",
      "model_name": "FloatProgressModel",
      "state": {
       "_dom_classes": [],
       "_model_module": "@jupyter-widgets/controls",
       "_model_module_version": "1.5.0",
       "_model_name": "FloatProgressModel",
       "_view_count": null,
       "_view_module": "@jupyter-widgets/controls",
       "_view_module_version": "1.5.0",
       "_view_name": "ProgressView",
       "bar_style": "success",
       "description": "100%",
       "description_tooltip": null,
       "layout": "IPY_MODEL_6a3511f375cc4a9fab9823f9ec5ef93e",
       "max": 25,
       "min": 0,
       "orientation": "horizontal",
       "style": "IPY_MODEL_6ec5c3ec144a4589b6437dcfcfdceb71",
       "value": 25
      }
     },
     "2e71b5a340514de58c3e15347a00f4d8": {
      "model_module": "@jupyter-widgets/base",
      "model_module_version": "1.2.0",
      "model_name": "LayoutModel",
      "state": {
       "_model_module": "@jupyter-widgets/base",
       "_model_module_version": "1.2.0",
       "_model_name": "LayoutModel",
       "_view_count": null,
       "_view_module": "@jupyter-widgets/base",
       "_view_module_version": "1.2.0",
       "_view_name": "LayoutView",
       "align_content": null,
       "align_items": null,
       "align_self": null,
       "border": null,
       "bottom": null,
       "display": null,
       "flex": null,
       "flex_flow": null,
       "grid_area": null,
       "grid_auto_columns": null,
       "grid_auto_flow": null,
       "grid_auto_rows": null,
       "grid_column": null,
       "grid_gap": null,
       "grid_row": null,
       "grid_template_areas": null,
       "grid_template_columns": null,
       "grid_template_rows": null,
       "height": null,
       "justify_content": null,
       "justify_items": null,
       "left": null,
       "margin": null,
       "max_height": null,
       "max_width": null,
       "min_height": null,
       "min_width": null,
       "object_fit": null,
       "object_position": null,
       "order": null,
       "overflow": null,
       "overflow_x": null,
       "overflow_y": null,
       "padding": null,
       "right": null,
       "top": null,
       "visibility": null,
       "width": null
      }
     },
     "3406fd3e2e6c47239624649c566939c4": {
      "model_module": "@jupyter-widgets/controls",
      "model_module_version": "1.5.0",
      "model_name": "ProgressStyleModel",
      "state": {
       "_model_module": "@jupyter-widgets/controls",
       "_model_module_version": "1.5.0",
       "_model_name": "ProgressStyleModel",
       "_view_count": null,
       "_view_module": "@jupyter-widgets/base",
       "_view_module_version": "1.2.0",
       "_view_name": "StyleView",
       "bar_color": null,
       "description_width": "initial"
      }
     },
     "359ef8595b264fbab18148b49b039085": {
      "model_module": "@jupyter-widgets/base",
      "model_module_version": "1.2.0",
      "model_name": "LayoutModel",
      "state": {
       "_model_module": "@jupyter-widgets/base",
       "_model_module_version": "1.2.0",
       "_model_name": "LayoutModel",
       "_view_count": null,
       "_view_module": "@jupyter-widgets/base",
       "_view_module_version": "1.2.0",
       "_view_name": "LayoutView",
       "align_content": null,
       "align_items": null,
       "align_self": null,
       "border": null,
       "bottom": null,
       "display": null,
       "flex": null,
       "flex_flow": null,
       "grid_area": null,
       "grid_auto_columns": null,
       "grid_auto_flow": null,
       "grid_auto_rows": null,
       "grid_column": null,
       "grid_gap": null,
       "grid_row": null,
       "grid_template_areas": null,
       "grid_template_columns": null,
       "grid_template_rows": null,
       "height": null,
       "justify_content": null,
       "justify_items": null,
       "left": null,
       "margin": null,
       "max_height": null,
       "max_width": null,
       "min_height": null,
       "min_width": null,
       "object_fit": null,
       "object_position": null,
       "order": null,
       "overflow": null,
       "overflow_x": null,
       "overflow_y": null,
       "padding": null,
       "right": null,
       "top": null,
       "visibility": null,
       "width": null
      }
     },
     "38011a184e744104903683f6dd89bd89": {
      "model_module": "@jupyter-widgets/controls",
      "model_module_version": "1.5.0",
      "model_name": "IntSliderModel",
      "state": {
       "_dom_classes": [],
       "_model_module": "@jupyter-widgets/controls",
       "_model_module_version": "1.5.0",
       "_model_name": "IntSliderModel",
       "_view_count": null,
       "_view_module": "@jupyter-widgets/controls",
       "_view_module_version": "1.5.0",
       "_view_name": "IntSliderView",
       "continuous_update": true,
       "description": "image_z",
       "description_tooltip": null,
       "disabled": false,
       "layout": "IPY_MODEL_0a19cdfb181c47768e0c4a1219c0eaa3",
       "max": 159,
       "min": 0,
       "orientation": "horizontal",
       "readout": true,
       "readout_format": "d",
       "step": 1,
       "style": "IPY_MODEL_b48acd2ba03c4a99bda8bb084f664846",
       "value": 79
      }
     },
     "4b59c29143b74077b713729391c9a415": {
      "model_module": "@jupyter-widgets/base",
      "model_module_version": "1.2.0",
      "model_name": "LayoutModel",
      "state": {
       "_model_module": "@jupyter-widgets/base",
       "_model_module_version": "1.2.0",
       "_model_name": "LayoutModel",
       "_view_count": null,
       "_view_module": "@jupyter-widgets/base",
       "_view_module_version": "1.2.0",
       "_view_name": "LayoutView",
       "align_content": null,
       "align_items": null,
       "align_self": null,
       "border": null,
       "bottom": null,
       "display": null,
       "flex": null,
       "flex_flow": null,
       "grid_area": null,
       "grid_auto_columns": null,
       "grid_auto_flow": null,
       "grid_auto_rows": null,
       "grid_column": null,
       "grid_gap": null,
       "grid_row": null,
       "grid_template_areas": null,
       "grid_template_columns": null,
       "grid_template_rows": null,
       "height": null,
       "justify_content": null,
       "justify_items": null,
       "left": null,
       "margin": null,
       "max_height": null,
       "max_width": null,
       "min_height": null,
       "min_width": null,
       "object_fit": null,
       "object_position": null,
       "order": null,
       "overflow": null,
       "overflow_x": null,
       "overflow_y": null,
       "padding": null,
       "right": null,
       "top": null,
       "visibility": null,
       "width": null
      }
     },
     "524a2a47eb5f419fbcedf1cb9fb3faa4": {
      "model_module": "@jupyter-widgets/controls",
      "model_module_version": "1.5.0",
      "model_name": "DescriptionStyleModel",
      "state": {
       "_model_module": "@jupyter-widgets/controls",
       "_model_module_version": "1.5.0",
       "_model_name": "DescriptionStyleModel",
       "_view_count": null,
       "_view_module": "@jupyter-widgets/base",
       "_view_module_version": "1.2.0",
       "_view_name": "StyleView",
       "description_width": ""
      }
     },
     "5869a5e8a8864a83957a982518a5204a": {
      "model_module": "@jupyter-widgets/base",
      "model_module_version": "1.2.0",
      "model_name": "LayoutModel",
      "state": {
       "_model_module": "@jupyter-widgets/base",
       "_model_module_version": "1.2.0",
       "_model_name": "LayoutModel",
       "_view_count": null,
       "_view_module": "@jupyter-widgets/base",
       "_view_module_version": "1.2.0",
       "_view_name": "LayoutView",
       "align_content": null,
       "align_items": null,
       "align_self": null,
       "border": null,
       "bottom": null,
       "display": null,
       "flex": null,
       "flex_flow": null,
       "grid_area": null,
       "grid_auto_columns": null,
       "grid_auto_flow": null,
       "grid_auto_rows": null,
       "grid_column": null,
       "grid_gap": null,
       "grid_row": null,
       "grid_template_areas": null,
       "grid_template_columns": null,
       "grid_template_rows": null,
       "height": null,
       "justify_content": null,
       "justify_items": null,
       "left": null,
       "margin": null,
       "max_height": null,
       "max_width": null,
       "min_height": null,
       "min_width": null,
       "object_fit": null,
       "object_position": null,
       "order": null,
       "overflow": null,
       "overflow_x": null,
       "overflow_y": null,
       "padding": null,
       "right": null,
       "top": null,
       "visibility": null,
       "width": null
      }
     },
     "5d7c3d5549ba449c8387da471acb9d5c": {
      "model_module": "@jupyter-widgets/controls",
      "model_module_version": "1.5.0",
      "model_name": "FloatSliderModel",
      "state": {
       "_dom_classes": [],
       "_model_module": "@jupyter-widgets/controls",
       "_model_module_version": "1.5.0",
       "_model_name": "FloatSliderModel",
       "_view_count": null,
       "_view_module": "@jupyter-widgets/controls",
       "_view_module_version": "1.5.0",
       "_view_name": "FloatSliderView",
       "continuous_update": true,
       "description": "alpha",
       "description_tooltip": null,
       "disabled": false,
       "layout": "IPY_MODEL_8f5923de9de94865ab764c3eb166648b",
       "max": 1,
       "min": 0.9,
       "orientation": "horizontal",
       "readout": true,
       "readout_format": ".2f",
       "step": 0.005,
       "style": "IPY_MODEL_b4005b70f0334759a65a18cd4dae54dc",
       "value": 0.9450000000000001
      }
     },
     "6a3511f375cc4a9fab9823f9ec5ef93e": {
      "model_module": "@jupyter-widgets/base",
      "model_module_version": "1.2.0",
      "model_name": "LayoutModel",
      "state": {
       "_model_module": "@jupyter-widgets/base",
       "_model_module_version": "1.2.0",
       "_model_name": "LayoutModel",
       "_view_count": null,
       "_view_module": "@jupyter-widgets/base",
       "_view_module_version": "1.2.0",
       "_view_name": "LayoutView",
       "align_content": null,
       "align_items": null,
       "align_self": null,
       "border": null,
       "bottom": null,
       "display": null,
       "flex": null,
       "flex_flow": null,
       "grid_area": null,
       "grid_auto_columns": null,
       "grid_auto_flow": null,
       "grid_auto_rows": null,
       "grid_column": null,
       "grid_gap": null,
       "grid_row": null,
       "grid_template_areas": null,
       "grid_template_columns": null,
       "grid_template_rows": null,
       "height": null,
       "justify_content": null,
       "justify_items": null,
       "left": null,
       "margin": null,
       "max_height": null,
       "max_width": null,
       "min_height": null,
       "min_width": null,
       "object_fit": null,
       "object_position": null,
       "order": null,
       "overflow": null,
       "overflow_x": null,
       "overflow_y": null,
       "padding": null,
       "right": null,
       "top": null,
       "visibility": null,
       "width": null
      }
     },
     "6ec5c3ec144a4589b6437dcfcfdceb71": {
      "model_module": "@jupyter-widgets/controls",
      "model_module_version": "1.5.0",
      "model_name": "ProgressStyleModel",
      "state": {
       "_model_module": "@jupyter-widgets/controls",
       "_model_module_version": "1.5.0",
       "_model_name": "ProgressStyleModel",
       "_view_count": null,
       "_view_module": "@jupyter-widgets/base",
       "_view_module_version": "1.2.0",
       "_view_name": "StyleView",
       "bar_color": null,
       "description_width": "initial"
      }
     },
     "7597028dede24a3aac59b20eb97b2360": {
      "model_module": "@jupyter-widgets/base",
      "model_module_version": "1.2.0",
      "model_name": "LayoutModel",
      "state": {
       "_model_module": "@jupyter-widgets/base",
       "_model_module_version": "1.2.0",
       "_model_name": "LayoutModel",
       "_view_count": null,
       "_view_module": "@jupyter-widgets/base",
       "_view_module_version": "1.2.0",
       "_view_name": "LayoutView",
       "align_content": null,
       "align_items": null,
       "align_self": null,
       "border": null,
       "bottom": null,
       "display": null,
       "flex": null,
       "flex_flow": null,
       "grid_area": null,
       "grid_auto_columns": null,
       "grid_auto_flow": null,
       "grid_auto_rows": null,
       "grid_column": null,
       "grid_gap": null,
       "grid_row": null,
       "grid_template_areas": null,
       "grid_template_columns": null,
       "grid_template_rows": null,
       "height": null,
       "justify_content": null,
       "justify_items": null,
       "left": null,
       "margin": null,
       "max_height": null,
       "max_width": null,
       "min_height": null,
       "min_width": null,
       "object_fit": null,
       "object_position": null,
       "order": null,
       "overflow": null,
       "overflow_x": null,
       "overflow_y": null,
       "padding": null,
       "right": null,
       "top": null,
       "visibility": null,
       "width": null
      }
     },
     "7e37bc5cbf284fef8015bb15fc411275": {
      "model_module": "@jupyter-widgets/base",
      "model_module_version": "1.2.0",
      "model_name": "LayoutModel",
      "state": {
       "_model_module": "@jupyter-widgets/base",
       "_model_module_version": "1.2.0",
       "_model_name": "LayoutModel",
       "_view_count": null,
       "_view_module": "@jupyter-widgets/base",
       "_view_module_version": "1.2.0",
       "_view_name": "LayoutView",
       "align_content": null,
       "align_items": null,
       "align_self": null,
       "border": null,
       "bottom": null,
       "display": null,
       "flex": null,
       "flex_flow": null,
       "grid_area": null,
       "grid_auto_columns": null,
       "grid_auto_flow": null,
       "grid_auto_rows": null,
       "grid_column": null,
       "grid_gap": null,
       "grid_row": null,
       "grid_template_areas": null,
       "grid_template_columns": null,
       "grid_template_rows": null,
       "height": null,
       "justify_content": null,
       "justify_items": null,
       "left": null,
       "margin": null,
       "max_height": null,
       "max_width": null,
       "min_height": null,
       "min_width": null,
       "object_fit": null,
       "object_position": null,
       "order": null,
       "overflow": null,
       "overflow_x": null,
       "overflow_y": null,
       "padding": null,
       "right": null,
       "top": null,
       "visibility": null,
       "width": null
      }
     },
     "857aafe0b24c4b21994f9c4ea6452e56": {
      "model_module": "@jupyter-widgets/controls",
      "model_module_version": "1.5.0",
      "model_name": "HTMLModel",
      "state": {
       "_dom_classes": [],
       "_model_module": "@jupyter-widgets/controls",
       "_model_module_version": "1.5.0",
       "_model_name": "HTMLModel",
       "_view_count": null,
       "_view_module": "@jupyter-widgets/controls",
       "_view_module_version": "1.5.0",
       "_view_name": "HTMLView",
       "description": "",
       "description_tooltip": null,
       "layout": "IPY_MODEL_359ef8595b264fbab18148b49b039085",
       "placeholder": "​",
       "style": "IPY_MODEL_524a2a47eb5f419fbcedf1cb9fb3faa4",
       "value": " 25/25 [02:05&lt;00:00,  5.01s/it]"
      }
     },
     "863c91907c4842149c250a54dadfdd3e": {
      "model_module": "@jupyter-widgets/base",
      "model_module_version": "1.2.0",
      "model_name": "LayoutModel",
      "state": {
       "_model_module": "@jupyter-widgets/base",
       "_model_module_version": "1.2.0",
       "_model_name": "LayoutModel",
       "_view_count": null,
       "_view_module": "@jupyter-widgets/base",
       "_view_module_version": "1.2.0",
       "_view_name": "LayoutView",
       "align_content": null,
       "align_items": null,
       "align_self": null,
       "border": null,
       "bottom": null,
       "display": null,
       "flex": null,
       "flex_flow": null,
       "grid_area": null,
       "grid_auto_columns": null,
       "grid_auto_flow": null,
       "grid_auto_rows": null,
       "grid_column": null,
       "grid_gap": null,
       "grid_row": null,
       "grid_template_areas": null,
       "grid_template_columns": null,
       "grid_template_rows": null,
       "height": null,
       "justify_content": null,
       "justify_items": null,
       "left": null,
       "margin": null,
       "max_height": null,
       "max_width": null,
       "min_height": null,
       "min_width": null,
       "object_fit": null,
       "object_position": null,
       "order": null,
       "overflow": null,
       "overflow_x": null,
       "overflow_y": null,
       "padding": null,
       "right": null,
       "top": null,
       "visibility": null,
       "width": null
      }
     },
     "89a004e2b7f74856bf2bae63257b6b23": {
      "model_module": "@jupyter-widgets/base",
      "model_module_version": "1.2.0",
      "model_name": "LayoutModel",
      "state": {
       "_model_module": "@jupyter-widgets/base",
       "_model_module_version": "1.2.0",
       "_model_name": "LayoutModel",
       "_view_count": null,
       "_view_module": "@jupyter-widgets/base",
       "_view_module_version": "1.2.0",
       "_view_name": "LayoutView",
       "align_content": null,
       "align_items": null,
       "align_self": null,
       "border": null,
       "bottom": null,
       "display": null,
       "flex": null,
       "flex_flow": null,
       "grid_area": null,
       "grid_auto_columns": null,
       "grid_auto_flow": null,
       "grid_auto_rows": null,
       "grid_column": null,
       "grid_gap": null,
       "grid_row": null,
       "grid_template_areas": null,
       "grid_template_columns": null,
       "grid_template_rows": null,
       "height": null,
       "justify_content": null,
       "justify_items": null,
       "left": null,
       "margin": null,
       "max_height": null,
       "max_width": null,
       "min_height": null,
       "min_width": null,
       "object_fit": null,
       "object_position": null,
       "order": null,
       "overflow": null,
       "overflow_x": null,
       "overflow_y": null,
       "padding": null,
       "right": null,
       "top": null,
       "visibility": null,
       "width": null
      }
     },
     "8d80d33f337a4631b6ba47c8baeefe75": {
      "model_module": "@jupyter-widgets/controls",
      "model_module_version": "1.5.0",
      "model_name": "HTMLModel",
      "state": {
       "_dom_classes": [],
       "_model_module": "@jupyter-widgets/controls",
       "_model_module_version": "1.5.0",
       "_model_name": "HTMLModel",
       "_view_count": null,
       "_view_module": "@jupyter-widgets/controls",
       "_view_module_version": "1.5.0",
       "_view_name": "HTMLView",
       "description": "",
       "description_tooltip": null,
       "layout": "IPY_MODEL_ab6bafbbc12a45fa84398a5815658718",
       "placeholder": "​",
       "style": "IPY_MODEL_ce1ab63b4ec14bceb8ba09d1874bf891",
       "value": " 25/25 [01:44&lt;00:00,  4.18s/it]"
      }
     },
     "8f5923de9de94865ab764c3eb166648b": {
      "model_module": "@jupyter-widgets/base",
      "model_module_version": "1.2.0",
      "model_name": "LayoutModel",
      "state": {
       "_model_module": "@jupyter-widgets/base",
       "_model_module_version": "1.2.0",
       "_model_name": "LayoutModel",
       "_view_count": null,
       "_view_module": "@jupyter-widgets/base",
       "_view_module_version": "1.2.0",
       "_view_name": "LayoutView",
       "align_content": null,
       "align_items": null,
       "align_self": null,
       "border": null,
       "bottom": null,
       "display": null,
       "flex": null,
       "flex_flow": null,
       "grid_area": null,
       "grid_auto_columns": null,
       "grid_auto_flow": null,
       "grid_auto_rows": null,
       "grid_column": null,
       "grid_gap": null,
       "grid_row": null,
       "grid_template_areas": null,
       "grid_template_columns": null,
       "grid_template_rows": null,
       "height": null,
       "justify_content": null,
       "justify_items": null,
       "left": null,
       "margin": null,
       "max_height": null,
       "max_width": null,
       "min_height": null,
       "min_width": null,
       "object_fit": null,
       "object_position": null,
       "order": null,
       "overflow": null,
       "overflow_x": null,
       "overflow_y": null,
       "padding": null,
       "right": null,
       "top": null,
       "visibility": null,
       "width": null
      }
     },
     "91c9d8c4329e406eadc90c42c8c0dff1": {
      "model_module": "@jupyter-widgets/controls",
      "model_module_version": "1.5.0",
      "model_name": "SliderStyleModel",
      "state": {
       "_model_module": "@jupyter-widgets/controls",
       "_model_module_version": "1.5.0",
       "_model_name": "SliderStyleModel",
       "_view_count": null,
       "_view_module": "@jupyter-widgets/base",
       "_view_module_version": "1.2.0",
       "_view_name": "StyleView",
       "description_width": "",
       "handle_color": null
      }
     },
     "99aed412c8854dd5a433463366a7d01a": {
      "model_module": "@jupyter-widgets/controls",
      "model_module_version": "1.5.0",
      "model_name": "VBoxModel",
      "state": {
       "_dom_classes": [
        "widget-interact"
       ],
       "_model_module": "@jupyter-widgets/controls",
       "_model_module_version": "1.5.0",
       "_model_name": "VBoxModel",
       "_view_count": null,
       "_view_module": "@jupyter-widgets/controls",
       "_view_module_version": "1.5.0",
       "_view_name": "VBoxView",
       "box_style": "",
       "children": [
        "IPY_MODEL_38011a184e744104903683f6dd89bd89",
        "IPY_MODEL_5d7c3d5549ba449c8387da471acb9d5c",
        "IPY_MODEL_cd0b4f63bf284adfb6a9d16adb608a91"
       ],
       "layout": "IPY_MODEL_863c91907c4842149c250a54dadfdd3e"
      }
     },
     "a0403fc200154ac2a440debbebdd6c0a": {
      "model_module": "@jupyter-widgets/controls",
      "model_module_version": "1.5.0",
      "model_name": "VBoxModel",
      "state": {
       "_dom_classes": [
        "widget-interact"
       ],
       "_model_module": "@jupyter-widgets/controls",
       "_model_module_version": "1.5.0",
       "_model_name": "VBoxModel",
       "_view_count": null,
       "_view_module": "@jupyter-widgets/controls",
       "_view_module_version": "1.5.0",
       "_view_name": "VBoxView",
       "box_style": "",
       "children": [
        "IPY_MODEL_b60d73dcb2cd4269b31ab98878802995",
        "IPY_MODEL_f02dc7642c584df7b543a71d24e0a48f",
        "IPY_MODEL_bde0f5d55d9b4dc8bdb1d5b7145e0faf"
       ],
       "layout": "IPY_MODEL_89a004e2b7f74856bf2bae63257b6b23"
      }
     },
     "ab6bafbbc12a45fa84398a5815658718": {
      "model_module": "@jupyter-widgets/base",
      "model_module_version": "1.2.0",
      "model_name": "LayoutModel",
      "state": {
       "_model_module": "@jupyter-widgets/base",
       "_model_module_version": "1.2.0",
       "_model_name": "LayoutModel",
       "_view_count": null,
       "_view_module": "@jupyter-widgets/base",
       "_view_module_version": "1.2.0",
       "_view_name": "LayoutView",
       "align_content": null,
       "align_items": null,
       "align_self": null,
       "border": null,
       "bottom": null,
       "display": null,
       "flex": null,
       "flex_flow": null,
       "grid_area": null,
       "grid_auto_columns": null,
       "grid_auto_flow": null,
       "grid_auto_rows": null,
       "grid_column": null,
       "grid_gap": null,
       "grid_row": null,
       "grid_template_areas": null,
       "grid_template_columns": null,
       "grid_template_rows": null,
       "height": null,
       "justify_content": null,
       "justify_items": null,
       "left": null,
       "margin": null,
       "max_height": null,
       "max_width": null,
       "min_height": null,
       "min_width": null,
       "object_fit": null,
       "object_position": null,
       "order": null,
       "overflow": null,
       "overflow_x": null,
       "overflow_y": null,
       "padding": null,
       "right": null,
       "top": null,
       "visibility": null,
       "width": null
      }
     },
     "ac2837ae3c0241d7be57ac79e733cd6e": {
      "model_module": "@jupyter-widgets/controls",
      "model_module_version": "1.5.0",
      "model_name": "HBoxModel",
      "state": {
       "_dom_classes": [],
       "_model_module": "@jupyter-widgets/controls",
       "_model_module_version": "1.5.0",
       "_model_name": "HBoxModel",
       "_view_count": null,
       "_view_module": "@jupyter-widgets/controls",
       "_view_module_version": "1.5.0",
       "_view_name": "HBoxView",
       "box_style": "",
       "children": [
        "IPY_MODEL_2029212896524d5fb8d219393dddeac3",
        "IPY_MODEL_1b2afbdd4ef34885a765aeae6cef7c53"
       ],
       "layout": "IPY_MODEL_7597028dede24a3aac59b20eb97b2360"
      }
     },
     "b246498cc53f43e497f2c8f28903cc20": {
      "model_module": "@jupyter-widgets/base",
      "model_module_version": "1.2.0",
      "model_name": "LayoutModel",
      "state": {
       "_model_module": "@jupyter-widgets/base",
       "_model_module_version": "1.2.0",
       "_model_name": "LayoutModel",
       "_view_count": null,
       "_view_module": "@jupyter-widgets/base",
       "_view_module_version": "1.2.0",
       "_view_name": "LayoutView",
       "align_content": null,
       "align_items": null,
       "align_self": null,
       "border": null,
       "bottom": null,
       "display": null,
       "flex": null,
       "flex_flow": null,
       "grid_area": null,
       "grid_auto_columns": null,
       "grid_auto_flow": null,
       "grid_auto_rows": null,
       "grid_column": null,
       "grid_gap": null,
       "grid_row": null,
       "grid_template_areas": null,
       "grid_template_columns": null,
       "grid_template_rows": null,
       "height": null,
       "justify_content": null,
       "justify_items": null,
       "left": null,
       "margin": null,
       "max_height": null,
       "max_width": null,
       "min_height": null,
       "min_width": null,
       "object_fit": null,
       "object_position": null,
       "order": null,
       "overflow": null,
       "overflow_x": null,
       "overflow_y": null,
       "padding": null,
       "right": null,
       "top": null,
       "visibility": null,
       "width": null
      }
     },
     "b4005b70f0334759a65a18cd4dae54dc": {
      "model_module": "@jupyter-widgets/controls",
      "model_module_version": "1.5.0",
      "model_name": "SliderStyleModel",
      "state": {
       "_model_module": "@jupyter-widgets/controls",
       "_model_module_version": "1.5.0",
       "_model_name": "SliderStyleModel",
       "_view_count": null,
       "_view_module": "@jupyter-widgets/base",
       "_view_module_version": "1.2.0",
       "_view_name": "StyleView",
       "description_width": "",
       "handle_color": null
      }
     },
     "b48acd2ba03c4a99bda8bb084f664846": {
      "model_module": "@jupyter-widgets/controls",
      "model_module_version": "1.5.0",
      "model_name": "SliderStyleModel",
      "state": {
       "_model_module": "@jupyter-widgets/controls",
       "_model_module_version": "1.5.0",
       "_model_name": "SliderStyleModel",
       "_view_count": null,
       "_view_module": "@jupyter-widgets/base",
       "_view_module_version": "1.2.0",
       "_view_name": "StyleView",
       "description_width": "",
       "handle_color": null
      }
     },
     "b60d73dcb2cd4269b31ab98878802995": {
      "model_module": "@jupyter-widgets/controls",
      "model_module_version": "1.5.0",
      "model_name": "IntSliderModel",
      "state": {
       "_dom_classes": [],
       "_model_module": "@jupyter-widgets/controls",
       "_model_module_version": "1.5.0",
       "_model_name": "IntSliderModel",
       "_view_count": null,
       "_view_module": "@jupyter-widgets/controls",
       "_view_module_version": "1.5.0",
       "_view_name": "IntSliderView",
       "continuous_update": true,
       "description": "image_z",
       "description_tooltip": null,
       "disabled": false,
       "layout": "IPY_MODEL_4b59c29143b74077b713729391c9a415",
       "max": 159,
       "min": 0,
       "orientation": "horizontal",
       "readout": true,
       "readout_format": "d",
       "step": 1,
       "style": "IPY_MODEL_d9589c463a3e46e2b1d4f54ffdc8d90d",
       "value": 79
      }
     },
     "bde0f5d55d9b4dc8bdb1d5b7145e0faf": {
      "model_module": "@jupyter-widgets/output",
      "model_module_version": "1.0.0",
      "model_name": "OutputModel",
      "state": {
       "_dom_classes": [],
       "_model_module": "@jupyter-widgets/output",
       "_model_module_version": "1.0.0",
       "_model_name": "OutputModel",
       "_view_count": null,
       "_view_module": "@jupyter-widgets/output",
       "_view_module_version": "1.0.0",
       "_view_name": "OutputView",
       "layout": "IPY_MODEL_2e71b5a340514de58c3e15347a00f4d8",
       "msg_id": "",
       "outputs": []
      }
     },
     "be3f32e1bf2443c0b4140798353e7d5d": {
      "model_module": "@jupyter-widgets/base",
      "model_module_version": "1.2.0",
      "model_name": "LayoutModel",
      "state": {
       "_model_module": "@jupyter-widgets/base",
       "_model_module_version": "1.2.0",
       "_model_name": "LayoutModel",
       "_view_count": null,
       "_view_module": "@jupyter-widgets/base",
       "_view_module_version": "1.2.0",
       "_view_name": "LayoutView",
       "align_content": null,
       "align_items": null,
       "align_self": null,
       "border": null,
       "bottom": null,
       "display": null,
       "flex": null,
       "flex_flow": null,
       "grid_area": null,
       "grid_auto_columns": null,
       "grid_auto_flow": null,
       "grid_auto_rows": null,
       "grid_column": null,
       "grid_gap": null,
       "grid_row": null,
       "grid_template_areas": null,
       "grid_template_columns": null,
       "grid_template_rows": null,
       "height": null,
       "justify_content": null,
       "justify_items": null,
       "left": null,
       "margin": null,
       "max_height": null,
       "max_width": null,
       "min_height": null,
       "min_width": null,
       "object_fit": null,
       "object_position": null,
       "order": null,
       "overflow": null,
       "overflow_x": null,
       "overflow_y": null,
       "padding": null,
       "right": null,
       "top": null,
       "visibility": null,
       "width": null
      }
     },
     "cd0b4f63bf284adfb6a9d16adb608a91": {
      "model_module": "@jupyter-widgets/output",
      "model_module_version": "1.0.0",
      "model_name": "OutputModel",
      "state": {
       "_dom_classes": [],
       "_model_module": "@jupyter-widgets/output",
       "_model_module_version": "1.0.0",
       "_model_name": "OutputModel",
       "_view_count": null,
       "_view_module": "@jupyter-widgets/output",
       "_view_module_version": "1.0.0",
       "_view_name": "OutputView",
       "layout": "IPY_MODEL_ea8b6ce22d8c4c2f83e837dd82ce966f",
       "msg_id": "",
       "outputs": []
      }
     },
     "ce1ab63b4ec14bceb8ba09d1874bf891": {
      "model_module": "@jupyter-widgets/controls",
      "model_module_version": "1.5.0",
      "model_name": "DescriptionStyleModel",
      "state": {
       "_model_module": "@jupyter-widgets/controls",
       "_model_module_version": "1.5.0",
       "_model_name": "DescriptionStyleModel",
       "_view_count": null,
       "_view_module": "@jupyter-widgets/base",
       "_view_module_version": "1.2.0",
       "_view_name": "StyleView",
       "description_width": ""
      }
     },
     "d255e111059b4b8eb638409ed13bcd79": {
      "model_module": "@jupyter-widgets/controls",
      "model_module_version": "1.5.0",
      "model_name": "FloatProgressModel",
      "state": {
       "_dom_classes": [],
       "_model_module": "@jupyter-widgets/controls",
       "_model_module_version": "1.5.0",
       "_model_name": "FloatProgressModel",
       "_view_count": null,
       "_view_module": "@jupyter-widgets/controls",
       "_view_module_version": "1.5.0",
       "_view_name": "ProgressView",
       "bar_style": "success",
       "description": "100%",
       "description_tooltip": null,
       "layout": "IPY_MODEL_e5ae1ee22caf40c1b91406ae01d0d75e",
       "max": 25,
       "min": 0,
       "orientation": "horizontal",
       "style": "IPY_MODEL_3406fd3e2e6c47239624649c566939c4",
       "value": 25
      }
     },
     "d9589c463a3e46e2b1d4f54ffdc8d90d": {
      "model_module": "@jupyter-widgets/controls",
      "model_module_version": "1.5.0",
      "model_name": "SliderStyleModel",
      "state": {
       "_model_module": "@jupyter-widgets/controls",
       "_model_module_version": "1.5.0",
       "_model_name": "SliderStyleModel",
       "_view_count": null,
       "_view_module": "@jupyter-widgets/base",
       "_view_module_version": "1.2.0",
       "_view_name": "StyleView",
       "description_width": "",
       "handle_color": null
      }
     },
     "e5ae1ee22caf40c1b91406ae01d0d75e": {
      "model_module": "@jupyter-widgets/base",
      "model_module_version": "1.2.0",
      "model_name": "LayoutModel",
      "state": {
       "_model_module": "@jupyter-widgets/base",
       "_model_module_version": "1.2.0",
       "_model_name": "LayoutModel",
       "_view_count": null,
       "_view_module": "@jupyter-widgets/base",
       "_view_module_version": "1.2.0",
       "_view_name": "LayoutView",
       "align_content": null,
       "align_items": null,
       "align_self": null,
       "border": null,
       "bottom": null,
       "display": null,
       "flex": null,
       "flex_flow": null,
       "grid_area": null,
       "grid_auto_columns": null,
       "grid_auto_flow": null,
       "grid_auto_rows": null,
       "grid_column": null,
       "grid_gap": null,
       "grid_row": null,
       "grid_template_areas": null,
       "grid_template_columns": null,
       "grid_template_rows": null,
       "height": null,
       "justify_content": null,
       "justify_items": null,
       "left": null,
       "margin": null,
       "max_height": null,
       "max_width": null,
       "min_height": null,
       "min_width": null,
       "object_fit": null,
       "object_position": null,
       "order": null,
       "overflow": null,
       "overflow_x": null,
       "overflow_y": null,
       "padding": null,
       "right": null,
       "top": null,
       "visibility": null,
       "width": null
      }
     },
     "ea8b6ce22d8c4c2f83e837dd82ce966f": {
      "model_module": "@jupyter-widgets/base",
      "model_module_version": "1.2.0",
      "model_name": "LayoutModel",
      "state": {
       "_model_module": "@jupyter-widgets/base",
       "_model_module_version": "1.2.0",
       "_model_name": "LayoutModel",
       "_view_count": null,
       "_view_module": "@jupyter-widgets/base",
       "_view_module_version": "1.2.0",
       "_view_name": "LayoutView",
       "align_content": null,
       "align_items": null,
       "align_self": null,
       "border": null,
       "bottom": null,
       "display": null,
       "flex": null,
       "flex_flow": null,
       "grid_area": null,
       "grid_auto_columns": null,
       "grid_auto_flow": null,
       "grid_auto_rows": null,
       "grid_column": null,
       "grid_gap": null,
       "grid_row": null,
       "grid_template_areas": null,
       "grid_template_columns": null,
       "grid_template_rows": null,
       "height": null,
       "justify_content": null,
       "justify_items": null,
       "left": null,
       "margin": null,
       "max_height": null,
       "max_width": null,
       "min_height": null,
       "min_width": null,
       "object_fit": null,
       "object_position": null,
       "order": null,
       "overflow": null,
       "overflow_x": null,
       "overflow_y": null,
       "padding": null,
       "right": null,
       "top": null,
       "visibility": null,
       "width": null
      }
     },
     "f02dc7642c584df7b543a71d24e0a48f": {
      "model_module": "@jupyter-widgets/controls",
      "model_module_version": "1.5.0",
      "model_name": "FloatSliderModel",
      "state": {
       "_dom_classes": [],
       "_model_module": "@jupyter-widgets/controls",
       "_model_module_version": "1.5.0",
       "_model_name": "FloatSliderModel",
       "_view_count": null,
       "_view_module": "@jupyter-widgets/controls",
       "_view_module_version": "1.5.0",
       "_view_name": "FloatSliderView",
       "continuous_update": true,
       "description": "alpha",
       "description_tooltip": null,
       "disabled": false,
       "layout": "IPY_MODEL_7e37bc5cbf284fef8015bb15fc411275",
       "max": 1,
       "min": 0.9,
       "orientation": "horizontal",
       "readout": true,
       "readout_format": ".2f",
       "step": 0.005,
       "style": "IPY_MODEL_91c9d8c4329e406eadc90c42c8c0dff1",
       "value": 0.9450000000000001
      }
     },
     "fce14bcb8ec64bf2b8fd3e02f5c81a49": {
      "model_module": "@jupyter-widgets/controls",
      "model_module_version": "1.5.0",
      "model_name": "DescriptionStyleModel",
      "state": {
       "_model_module": "@jupyter-widgets/controls",
       "_model_module_version": "1.5.0",
       "_model_name": "DescriptionStyleModel",
       "_view_count": null,
       "_view_module": "@jupyter-widgets/base",
       "_view_module_version": "1.2.0",
       "_view_name": "StyleView",
       "description_width": ""
      }
     },
     "fffe2c219c1e42989b5b7359aa5292ba": {
      "model_module": "@jupyter-widgets/controls",
      "model_module_version": "1.5.0",
      "model_name": "HBoxModel",
      "state": {
       "_dom_classes": [],
       "_model_module": "@jupyter-widgets/controls",
       "_model_module_version": "1.5.0",
       "_model_name": "HBoxModel",
       "_view_count": null,
       "_view_module": "@jupyter-widgets/controls",
       "_view_module_version": "1.5.0",
       "_view_name": "HBoxView",
       "box_style": "",
       "children": [
        "IPY_MODEL_d255e111059b4b8eb638409ed13bcd79",
        "IPY_MODEL_8d80d33f337a4631b6ba47c8baeefe75"
       ],
       "layout": "IPY_MODEL_5869a5e8a8864a83957a982518a5204a"
      }
     }
    },
    "version_major": 2,
    "version_minor": 0
   }
  }
 },
 "nbformat": 4,
 "nbformat_minor": 4
}
