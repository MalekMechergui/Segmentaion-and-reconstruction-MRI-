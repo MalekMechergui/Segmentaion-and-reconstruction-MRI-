{
 "cells": [
  {
   "cell_type": "markdown",
   "metadata": {
    "papermill": {
     "duration": 0.006911,
     "end_time": "2020-09-01T12:37:11.757833",
     "exception": false,
     "start_time": "2020-09-01T12:37:11.750922",
     "status": "completed"
    },
    "tags": []
   },
   "source": [
    "# Importations"
   ]
  },
  {
   "cell_type": "code",
   "execution_count": 1,
   "metadata": {},
   "outputs": [],
   "source": [
    "import os\n",
    "os.environ[\"CUDA_DEVICE_ORDER\"] = \"PCI_BUS_ID\"\n",
    "os.environ[\"CUDA_VISIBLE_DEVICES\"] = \"0\""
   ]
  },
  {
   "cell_type": "code",
   "execution_count": 2,
   "metadata": {
    "_cell_guid": "b1076dfc-b9ad-4769-8c92-a6c4dae69d19",
    "_uuid": "8f2839f25d086af736a60e9eeb907d3b93b6e0e5",
    "execution": {
     "iopub.execute_input": "2020-09-01T12:37:32.697209Z",
     "iopub.status.busy": "2020-09-01T12:37:32.696476Z",
     "iopub.status.idle": "2020-09-01T12:37:32.732707Z",
     "shell.execute_reply": "2020-09-01T12:37:32.732216Z"
    },
    "papermill": {
     "duration": 0.051001,
     "end_time": "2020-09-01T12:37:32.732806",
     "exception": false,
     "start_time": "2020-09-01T12:37:32.681805",
     "status": "completed"
    },
    "tags": []
   },
   "outputs": [],
   "source": [
    "import gc ,random \n",
    "\n",
    "import numpy as np # linear algebra\n",
    "import pandas as pd # data processing, CSV file I/O (e.g. pd.read_csv)\n",
    "import seaborn as sns\n",
    "from sklearn import model_selection\n",
    "\n",
    "import cv2\n",
    "import SimpleITK as sitk\n",
    "from ipywidgets import interact, fixed\n",
    "from tqdm import tqdm \n",
    "import matplotlib.pyplot as plt\n",
    "from PIL import Image\n",
    "\n",
    "import torch\n",
    "from torch import nn\n",
    "import torch.nn.functional as F\n",
    "import torch.optim as optim\n",
    "from transformers import get_linear_schedule_with_warmup\n",
    "import albumentations as A \n",
    "\n",
    "from collections import OrderedDict\n",
    "from sklearn.model_selection import train_test_split\n",
    "\n",
    "from loss.dice import * \n",
    "from loss.ssim import * \n",
    "from models.UNet import *\n",
    "from datasets.merging_dataset import * "
   ]
  },
  {
   "cell_type": "code",
   "execution_count": 3,
   "metadata": {
    "execution": {
     "iopub.execute_input": "2020-09-01T12:37:32.756492Z",
     "iopub.status.busy": "2020-09-01T12:37:32.755808Z",
     "iopub.status.idle": "2020-09-01T12:37:32.759377Z",
     "shell.execute_reply": "2020-09-01T12:37:32.759913Z"
    },
    "papermill": {
     "duration": 0.021453,
     "end_time": "2020-09-01T12:37:32.760024",
     "exception": false,
     "start_time": "2020-09-01T12:37:32.738571",
     "status": "completed"
    },
    "tags": []
   },
   "outputs": [],
   "source": [
    "# SEED Everything \n",
    "\n",
    "SEED = 42\n",
    "random.seed(SEED)\n",
    "np.random.seed(SEED)\n",
    "torch.manual_seed(SEED)\n",
    "torch.cuda.manual_seed(SEED)\n",
    "torch.backends.cudnn.deterministic = True"
   ]
  },
  {
   "cell_type": "markdown",
   "metadata": {},
   "source": [
    "# Model description "
   ]
  },
  {
   "cell_type": "code",
   "execution_count": null,
   "metadata": {},
   "outputs": [],
   "source": []
  },
  {
   "cell_type": "markdown",
   "metadata": {},
   "source": [
    "# Loss Function"
   ]
  },
  {
   "cell_type": "code",
   "execution_count": null,
   "metadata": {},
   "outputs": [],
   "source": []
  },
  {
   "cell_type": "markdown",
   "metadata": {},
   "source": [
    "# Model implmentation "
   ]
  },
  {
   "cell_type": "code",
   "execution_count": null,
   "metadata": {},
   "outputs": [],
   "source": [
    "class ParallelCascadedUNet(nn.Module) : \n",
    "    def __init__(self) :\n",
    "        super(ParallelCascadedUNet,self).__init__()\n",
    "        self.segmentation_1  = UNet(1,4, segmentation = False) \n",
    "        self.segmentation_2  = UNet(2,4, segmentation = False)\n",
    "        \n",
    "        self.reconstruction_1 = UNet(1,1, segmentation = False)\n",
    "        self.reconstruction_2 = UNet(5,1, segmentation = False)\n",
    "        \n",
    "    def forward(self,image) :\n",
    "        seg_1 = self.segmentation_1(image) \n",
    "        rec_1 = self.reconstruction_1(image)\n",
    "        \n",
    "        x_hr_lr = torch.cat([rec_1,image] , dim =1)\n",
    "        seg_2  = self.segmentation_2(x_hr_lr) \n",
    "        \n",
    "        c_seg = self.construct_seg(seg_1)\n",
    "        x_merge = torch.cat([image,c_seg] , dim = 1 )\n",
    "        rec_2 = self.reconstruction_2(x_merge)\n",
    "        \n",
    "        return rec_1 , seg_1 , rec_2 , seg_2  \n",
    "    def construct_seg(self,x) : \n",
    "        y_1 = torch.argmax(nn.Softmax2d()(x) , dim=1)\n",
    "        x_label_0 = (y_1==0).type(torch.long).unsqueeze(1)\n",
    "        x_label_1 = (y_1==1).type(torch.long).unsqueeze(1)\n",
    "        x_label_2 = (y_1==2).type(torch.long).unsqueeze(1)\n",
    "        x_label_3 = (y_1==3).type(torch.long).unsqueeze(1)\n",
    "        generated_segmenation = torch.cat([x_label_0,x_label_1,x_label_2,x_label_3] , dim = 1)\n",
    "        generated_segmenation = generated_segmenation.type(torch.float)\n",
    "        return generated_segmenation "
   ]
  },
  {
   "cell_type": "markdown",
   "metadata": {
    "papermill": {
     "duration": 0.006019,
     "end_time": "2020-09-01T12:37:32.854121",
     "exception": false,
     "start_time": "2020-09-01T12:37:32.848102",
     "status": "completed"
    },
    "tags": []
   },
   "source": [
    "# Engine "
   ]
  },
  {
   "cell_type": "code",
   "execution_count": null,
   "metadata": {},
   "outputs": [],
   "source": [
    "def loss_fn (img1, img2):\n",
    "    return 1-SSIM()(img1, img2)"
   ]
  },
  {
   "cell_type": "code",
   "execution_count": 6,
   "metadata": {},
   "outputs": [],
   "source": [
    "def train_fn(data_loader, model, optimizer, scheduler,device):\n",
    "    model.train()\n",
    "    tr_loss = 0 \n",
    "    counter = 0 \n",
    "    if verbose : \n",
    "        tk0 = tqdm( enumerate(data_loader) , total= len(data_loader) )\n",
    "    else : \n",
    "        tk0 = enumerate(data_loader)\n",
    "    for bi, d in tk0 : # LOOP : batch number i   \n",
    "        real_mask = d[\"label\"].to(device, dtype=torch.long)\n",
    "        LR = d[\"LR\"].to(device, dtype=torch.float) \n",
    "        HR = d[\"HR\"].to(device, dtype=torch.float)  \n",
    "        \n",
    "        HR_1 , mask_1 , HR_2 , mask_2   = model(LR.unsqueeze(1)) #forward prop\n",
    "        loss_seg_1 , _ = dice_loss (mask_1, real_mask) # Loss calaculation of batch i \n",
    "        loss_seg_2 , _ = dice_loss(mask_2 , real_mask)\n",
    "        \n",
    "        loss_rec_1 = loss_fn(HR_1, HR.unsqueeze(1) )\n",
    "        loss_rec_2 = loss_fn(HR_2 , HR.unsqueeze(1) )\n",
    "        loss = (loss_seg_1+loss_seg_2+loss_rec_1+loss_rec_2)/4\n",
    "        \n",
    "        optimizer.zero_grad() #\n",
    "        loss.backward()  # backward prop \n",
    "        optimizer.step() \n",
    "        \n",
    "        tr_loss += loss.item()\n",
    "        counter +=1 \n",
    "    return tr_loss/counter\n"
   ]
  },
  {
   "cell_type": "code",
   "execution_count": 7,
   "metadata": {},
   "outputs": [],
   "source": [
    "\n",
    "def eval_fn(data_loader, model , device ):\n",
    "    model.eval()\n",
    "    seg_loss = 0 \n",
    "    rec_loss = 0\n",
    "    counter = 0\n",
    "    \n",
    "    label1_loss  = 0\n",
    "    label2_loss  = 0 \n",
    "    label3_loss  = 0 \n",
    "    label4_loss = 4 \n",
    "    if verbose : \n",
    "        tk0 = tqdm( enumerate(data_loader) , total= len(data_loader) )\n",
    "    else : \n",
    "        tk0 = enumerate(data_loader)\n",
    "\n",
    "    with torch.no_grad():\n",
    "        \n",
    "        for bi, d in tk0 :\n",
    "       \n",
    "            real_mask = d[\"label\"].to(device, dtype=torch.long)\n",
    "\n",
    "            LR = d[\"LR\"].to(device, dtype=torch.float) \n",
    "            HR = d[\"HR\"].to(device, dtype=torch.float)  \n",
    "            HR_1 , mask_1 , _ , _    = model(LR.unsqueeze(1)) #forward prop\n",
    "            \n",
    "            loss , labels = dice_loss(mask_1, real_mask) # Loss calaculation of batch i \n",
    "            \n",
    "            ssim_score = loss_fn(HR_1 , HR.unsqueeze(1) )\n",
    "            \n",
    "            label1_loss += labels[0].item() \n",
    "            label2_loss += labels[1].item() \n",
    "            label3_loss += labels[2].item() \n",
    "            label4_loss += labels[3].item() \n",
    "            \n",
    "            seg_loss += loss.item()\n",
    "            rec_loss += ssim_score.item()\n",
    "            counter +=1 \n",
    "\n",
    "        \n",
    "            \n",
    "        return rec_loss/counter , seg_loss/counter ,  (label1_loss /counter ,label2_loss /counter, label3_loss /counter,label4_loss/counter)"
   ]
  },
  {
   "cell_type": "code",
   "execution_count": 8,
   "metadata": {
    "execution": {
     "iopub.execute_input": "2020-09-01T12:37:32.908162Z",
     "iopub.status.busy": "2020-09-01T12:37:32.892584Z",
     "iopub.status.idle": "2020-09-01T12:37:32.928948Z",
     "shell.execute_reply": "2020-09-01T12:37:32.928402Z"
    },
    "papermill": {
     "duration": 0.050281,
     "end_time": "2020-09-01T12:37:32.929036",
     "exception": false,
     "start_time": "2020-09-01T12:37:32.878755",
     "status": "completed"
    },
    "tags": []
   },
   "outputs": [],
   "source": [
    "def run(model, EPOCHS , train_dataset , valid_dataset , device , LR , TRAIN_BATCH_SIZE ,VALID_BATCH_SIZE):\n",
    "    train_data_loader = torch.utils.data.DataLoader(\n",
    "        train_dataset,\n",
    "        shuffle = True , \n",
    "        batch_size=TRAIN_BATCH_SIZE,\n",
    "        num_workers=8\n",
    "    )\n",
    "    valid_data_loader = torch.utils.data.DataLoader(\n",
    "        valid_dataset,\n",
    "        batch_size=VALID_BATCH_SIZE,\n",
    "        num_workers=4\n",
    "    )\n",
    "    num_train_steps = int(len(train_data_loader)) * EPOCHS\n",
    "    optimizer = optim.Adam(model.parameters(), lr=LR)   \n",
    "    scheduler = get_linear_schedule_with_warmup(\n",
    "        optimizer,\n",
    "        num_warmup_steps=0,\n",
    "        num_training_steps=num_train_steps\n",
    "    )\n",
    "    \n",
    "    train_loss =  []\n",
    "    rec_score = []\n",
    "    seg_score = []\n",
    "    val_loss = []\n",
    "    best_validation_dsc = 1.0\n",
    "    \n",
    "    patience = 0 \n",
    "    for epoch in range(EPOCHS):\n",
    "        if verbose : \n",
    "            print(f'--------- Epoch {epoch} ---------')\n",
    "        elif epoch%10==0 : \n",
    "            print(f'--------- Epoch {epoch} ---------')\n",
    "        tr_loss=train_fn(train_data_loader, model, optimizer, scheduler,device)\n",
    "        train_loss.append(tr_loss)\n",
    "        if verbose : \n",
    "            print(f\" train_loss  = {tr_loss}\")\n",
    "        elif epoch%10==0 : \n",
    "            print(f\" train_loss  = {tr_loss}\")\n",
    "        rec , seg , _  = eval_fn(valid_data_loader, model,device)\n",
    "        val = rec\n",
    "        rec_score.append(1-rec)\n",
    "        seg_score.append(1-seg)\n",
    "        val_loss.append(val)\n",
    "        if verbose : \n",
    "            print(f\" Segmentation  Dice  = {1-seg} , Reconstruction SSIM = {1-rec}\")\n",
    "        elif epoch%10==0 : \n",
    "            print(f\" Segmentation  Dice  = {1-seg} , Reconstruction SSIM = {1-rec}\")\n",
    "        if val < best_validation_dsc : \n",
    "            best_validation_dsc =val \n",
    "            patience = 0 \n",
    "            torch.save(model.state_dict(), 'PCUNet.pt')\n",
    "        else : \n",
    "            patience +=1\n",
    "        \n",
    "        if patience>20 : \n",
    "            print(f'Eraly Stopping on Epoch {epoch}')\n",
    "            print(f'Best Loss =  {best_validation_dsc}')\n",
    "            break\n",
    "        scheduler.step()\n",
    "        \n",
    "    model.load_state_dict(torch.load('PCUNet.pt'), strict=False)\n",
    "    return val_loss,train_loss"
   ]
  },
  {
   "cell_type": "markdown",
   "metadata": {
    "papermill": {
     "duration": 0.005854,
     "end_time": "2020-09-01T12:37:32.940672",
     "exception": false,
     "start_time": "2020-09-01T12:37:32.934818",
     "status": "completed"
    },
    "tags": []
   },
   "source": [
    "# Model Training "
   ]
  },
  {
   "cell_type": "code",
   "execution_count": 10,
   "metadata": {},
   "outputs": [],
   "source": [
    "all_data = pd.read_csv('data_5fold.csv')\n",
    "subjects = all_data[all_data['slice']==0]"
   ]
  },
  {
   "cell_type": "code",
   "execution_count": 11,
   "metadata": {
    "execution": {
     "iopub.execute_input": "2020-09-01T12:37:32.988933Z",
     "iopub.status.busy": "2020-09-01T12:37:32.988084Z",
     "iopub.status.idle": "2020-09-01T12:37:32.999249Z",
     "shell.execute_reply": "2020-09-01T12:37:33.000012Z"
    },
    "papermill": {
     "duration": 0.020268,
     "end_time": "2020-09-01T12:37:33.000125",
     "exception": false,
     "start_time": "2020-09-01T12:37:32.979857",
     "status": "completed"
    },
    "tags": []
   },
   "outputs": [],
   "source": [
    "TRAIN_BATCH_SIZE = 64\n",
    "VALID_BATCH_SIZE = 32\n",
    "LR = 2e-4\n",
    "EPOCHS = 200\n",
    "device = torch.device('cuda')\n",
    "verbose = False"
   ]
  },
  {
   "cell_type": "code",
   "execution_count": null,
   "metadata": {
    "execution": {
     "iopub.execute_input": "2020-09-01T12:37:33.021636Z",
     "iopub.status.busy": "2020-09-01T12:37:33.020750Z",
     "iopub.status.idle": "2020-09-01T12:37:33.031331Z",
     "shell.execute_reply": "2020-09-01T12:37:33.030815Z"
    },
    "papermill": {
     "duration": 0.025021,
     "end_time": "2020-09-01T12:37:33.031433",
     "exception": false,
     "start_time": "2020-09-01T12:37:33.006412",
     "status": "completed"
    },
    "tags": []
   },
   "outputs": [
    {
     "name": "stdout",
     "output_type": "stream",
     "text": [
      "[get_training_augmentation]  resize_to: (160, 160)\n",
      "--------- Epoch 0 ---------\n",
      " train_loss  = 0.6749046516418457\n",
      " Segmentation  Dice  = 0.20848041057586675 , Reconstruction SSIM = 0.6703659176826477\n",
      "--------- Epoch 10 ---------\n",
      " train_loss  = 0.434279505610466\n",
      " Segmentation  Dice  = 0.4103750109672546 , Reconstruction SSIM = 0.7246313333511353\n",
      "--------- Epoch 20 ---------\n",
      " train_loss  = 0.380865398645401\n",
      " Segmentation  Dice  = 0.49173375964164734 , Reconstruction SSIM = 0.7310822129249572\n",
      "--------- Epoch 30 ---------\n",
      " train_loss  = 0.32328401327133177\n",
      " Segmentation  Dice  = 0.6042168498039245 , Reconstruction SSIM = 0.7394587635993958\n",
      "--------- Epoch 40 ---------\n",
      " train_loss  = 0.225049047768116\n",
      " Segmentation  Dice  = 0.8183372390270234 , Reconstruction SSIM = 0.7466718673706054\n",
      "--------- Epoch 50 ---------\n",
      " train_loss  = 0.16471371471881865\n",
      " Segmentation  Dice  = 0.9029667893052101 , Reconstruction SSIM = 0.7464108157157898\n",
      "--------- Epoch 60 ---------\n",
      " train_loss  = 0.16238696366548538\n",
      " Segmentation  Dice  = 0.9116984030604363 , Reconstruction SSIM = 0.7491574788093567\n",
      "--------- Epoch 70 ---------\n",
      " train_loss  = 0.15546803951263427\n",
      " Segmentation  Dice  = 0.9119899812340736 , Reconstruction SSIM = 0.7522545456886292\n"
     ]
    }
   ],
   "source": [
    "train_folds_loss = []\n",
    "valid_folds_loss = []\n",
    "for f in range(1) : \n",
    "    df_train = all_data[all_data['kfold'] !=f]\n",
    "    df_valid = all_data[all_data['kfold'] ==f]\n",
    "    Left_train_dataset = Merging_data_set(df_train ,  subjects  , Left = True , is_train = True)\n",
    "    Left_valid_dataset = Merging_data_set(df_valid  ,  subjects  , Left = True , is_train  = False)\n",
    "    Left_model = ParallelCascadedUNet()\n",
    "    Left_model = Left_model.to(device)\n",
    "    val_loss , train_loss =  run( Left_model  , EPOCHS , Left_train_dataset , Left_valid_dataset , device , LR , TRAIN_BATCH_SIZE , VALID_BATCH_SIZE )\n",
    "    train_folds_loss.append(train_loss)\n",
    "    valid_folds_loss.append(val_loss) \n",
    "    torch.save(Left_model.state_dict(), f'trained_model/PCasceded UNet/Rec parallel Cascaded Unet Left fold {f}.pt')"
   ]
  },
  {
   "cell_type": "code",
   "execution_count": null,
   "metadata": {
    "execution": {
     "iopub.execute_input": "2020-09-01T12:37:33.049846Z",
     "iopub.status.busy": "2020-09-01T12:37:33.049083Z",
     "iopub.status.idle": "2020-09-01T12:37:33.051645Z",
     "shell.execute_reply": "2020-09-01T12:37:33.052269Z"
    },
    "papermill": {
     "duration": 0.014847,
     "end_time": "2020-09-01T12:37:33.052377",
     "exception": false,
     "start_time": "2020-09-01T12:37:33.037530",
     "status": "completed"
    },
    "tags": []
   },
   "outputs": [],
   "source": [
    "def plot_(f) :\n",
    "    plt.plot(train_folds_loss[f]) \n",
    "    plt.plot(valid_folds_loss[f])\n",
    "    plt.title(f'Learning curve fold 0={f}')\n",
    "    plt.ylabel('score')\n",
    "    plt.xlabel('epoch')\n",
    "    plt.legend(['Train', 'Val'], loc='upper right')\n",
    "    plt.show()"
   ]
  },
  {
   "cell_type": "code",
   "execution_count": null,
   "metadata": {},
   "outputs": [],
   "source": [
    "plot_(0)"
   ]
  }
 ],
 "metadata": {
  "kernelspec": {
   "display_name": "Python 3",
   "language": "python",
   "name": "python3"
  },
  "language_info": {
   "codemirror_mode": {
    "name": "ipython",
    "version": 3
   },
   "file_extension": ".py",
   "mimetype": "text/x-python",
   "name": "python",
   "nbconvert_exporter": "python",
   "pygments_lexer": "ipython3",
   "version": "3.7.6"
  },
  "papermill": {
   "duration": 25.592187,
   "end_time": "2020-09-01T12:37:33.256544",
   "environment_variables": {},
   "exception": null,
   "input_path": "__notebook__.ipynb",
   "output_path": "__notebook__.ipynb",
   "parameters": {},
   "start_time": "2020-09-01T12:37:07.664357",
   "version": "2.1.0"
  }
 },
 "nbformat": 4,
 "nbformat_minor": 4
}
