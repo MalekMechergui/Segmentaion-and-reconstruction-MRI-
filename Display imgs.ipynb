{
 "cells": [
  {
   "cell_type": "code",
   "execution_count": 1,
   "metadata": {},
   "outputs": [],
   "source": [
    "import os\n",
    "os.environ[\"CUDA_DEVICE_ORDER\"] = \"PCI_BUS_ID\"\n",
    "os.environ[\"CUDA_VISIBLE_DEVICES\"] = \"0\""
   ]
  },
  {
   "cell_type": "code",
   "execution_count": 2,
   "metadata": {},
   "outputs": [],
   "source": [
    "import gc ,random \n",
    "import numpy as np # linear algebra\n",
    "import pandas as pd # data processing, CSV file I/O (e.g. pd.read_csv)\n",
    "import seaborn as sns\n",
    "from sklearn import model_selection\n",
    "\n",
    "import cv2\n",
    "import SimpleITK as sitk\n",
    "from ipywidgets import interact, fixed\n",
    "from tqdm import tqdm \n",
    "import matplotlib.pyplot as plt\n",
    "from PIL import Image\n",
    "\n",
    "\n",
    "import torch\n",
    "from torch import nn\n",
    "import torch.nn.functional as F\n",
    "import torch.optim as optim\n",
    "from transformers import get_linear_schedule_with_warmup\n",
    "import albumentations as A \n",
    "\n",
    "from collections import OrderedDict\n",
    "from sklearn.model_selection import train_test_split\n",
    "\n",
    "from loss.ssim import * \n",
    "from models.UNet import *\n",
    "from datasets.merging_dataset import * \n",
    "\n",
    "device = torch.device('cuda')"
   ]
  },
  {
   "cell_type": "code",
   "execution_count": 3,
   "metadata": {},
   "outputs": [],
   "source": [
    "df = pd.read_csv('data_5fold.csv')\n",
    "subjects = df[df['slice']==0]"
   ]
  },
  {
   "cell_type": "code",
   "execution_count": 4,
   "metadata": {},
   "outputs": [],
   "source": [
    "class Adeversarial(nn.Module) : \n",
    "    def __init__(self) : \n",
    "        super(Adeversarial, self).__init__()\n",
    "        \n",
    "        self.image_encoder = nn.Sequential(\n",
    "            nn.Conv2d(1, 128, kernel_size=5),\n",
    "            nn.ReLU(inplace=True),\n",
    "            nn.MaxPool2d(kernel_size=2, stride=2),\n",
    "\n",
    "            nn.Conv2d(128, 128 , kernel_size = 5), \n",
    "            nn.ReLU(inplace=True), \n",
    "            nn.MaxPool2d(kernel_size = 2 , stride=2),\n",
    "        \n",
    "            nn.Conv2d(128, 128, kernel_size=3),\n",
    "            nn.ReLU(inplace=True),\n",
    "            nn.MaxPool2d(kernel_size=2, stride=2),\n",
    "            \n",
    "            nn.Conv2d(128, 256, kernel_size=3),\n",
    "            nn.ReLU(inplace=True),\n",
    "            nn.MaxPool2d(kernel_size=2, stride=2),\n",
    "            \n",
    "            nn.Conv2d(256, 512, kernel_size=3),\n",
    "            nn.ReLU(inplace=True),\n",
    "            nn.Conv2d(512, 2, kernel_size=3),\n",
    "            nn.MaxPool2d(kernel_size=3, stride=3),\n",
    "            nn.Sigmoid()\n",
    "        \n",
    "        )\n",
    "        \n",
    "    def forward(self, image):\n",
    "        y = self.image_encoder(image)\n",
    "        return(y[:,:,0,0])           "
   ]
  },
  {
   "cell_type": "code",
   "execution_count": 5,
   "metadata": {},
   "outputs": [],
   "source": [
    "class CascadedUNet(nn.Module) : \n",
    "    def __init__(self) :\n",
    "        super(CascadedUNet,self).__init__()\n",
    "        self.layer_1  = UNet(1,1, segmentation = False) \n",
    "        self.layer_2  = UNet(2,4, segmentation = False)\n",
    "        self.layer_3  = UNet(6,1, segmentation = False)\n",
    "        self.layer_4  = UNet(2,4, segmentation = False)\n",
    "        self.layer_5  = UNet(6,1, segmentation = False)\n",
    "    def forward(self,image) :\n",
    "        \n",
    "        hr_1 = self.layer_1(image)\n",
    "        im = torch.cat([hr_1,image],dim=1)\n",
    "        \n",
    "        seg_1 = self.layer_2(im)\n",
    "        \n",
    "        seg_t = self.segmentation_gen(seg_1)\n",
    "        im = torch.cat([hr_1,image,seg_t*image],dim=1)\n",
    "        \n",
    "        hr_2 = self.layer_3(im) \n",
    "        \n",
    "        im = torch.cat([hr_2,image],dim=1)\n",
    "        seg_2 = self.layer_4(im)\n",
    "        \n",
    "        seg_t = self.segmentation_gen(seg_2) \n",
    "        \n",
    "        im = torch.cat([hr_2,image,seg_t*image],dim=1)\n",
    "        hr_3 = self.layer_5(im)\n",
    "        \n",
    "        return hr_3\n",
    "    def segmentation_gen(self,x) : \n",
    "        \n",
    "        y_1 = torch.argmax(nn.Softmax2d()(x) , dim=1)\n",
    "        x_label_0 = (y_1==0).type(torch.long).unsqueeze(1)\n",
    "        x_label_1 = (y_1==1).type(torch.long).unsqueeze(1)\n",
    "        x_label_2 = (y_1==2).type(torch.long).unsqueeze(1)\n",
    "        x_label_3 = (y_1==3).type(torch.long).unsqueeze(1)\n",
    "        y_1 = torch.cat([x_label_0,x_label_1,x_label_2,x_label_3] , dim = 1)\n",
    "        y_1 = y_1.type(torch.float)\n",
    "        \n",
    "        return y_1 \n",
    "        "
   ]
  },
  {
   "cell_type": "code",
   "execution_count": 6,
   "metadata": {},
   "outputs": [],
   "source": [
    "class ParallelCascadedUNet(nn.Module) : \n",
    "    def __init__(self) :\n",
    "        super(ParallelCascadedUNet,self).__init__()\n",
    "        \n",
    "        self.segmentation_1  = UNet(1,4, segmentation = False) \n",
    "        self.segmentation_2  = UNet(2,4, segmentation = False)\n",
    "        self.segmentation_3  = UNet(2,4, segmentation = False)\n",
    "        \n",
    "        self.reconstruction_1 = UNet(1,1, segmentation = False)\n",
    "        self.reconstruction_2 = UNet(5,1, segmentation = False)\n",
    "        self.reconstruction_3 = UNet(5,1, segmentation = False)\n",
    "    \n",
    "    def forward(self,image) :\n",
    "        seg_1 = self.segmentation_1(image) \n",
    "        rec_1 = self.reconstruction_1(image)\n",
    "        \n",
    "        x_hr_lr = torch.cat([rec_1,image] , dim =1)\n",
    "        seg_2  = self.segmentation_2(x_hr_lr) \n",
    "        \n",
    "        c_seg = self.construct_seg(seg_1)\n",
    "        x_merge = torch.cat([image,c_seg] , dim = 1 )\n",
    "        rec_2 = self.reconstruction_2(x_merge)\n",
    "        \n",
    "        x_hr_lr = torch.cat([rec_2,image] , dim =1)\n",
    "        seg_3  = self.segmentation_3(x_hr_lr) \n",
    "        \n",
    "        c_seg = self.construct_seg(seg_2)\n",
    "        x_merge = torch.cat([image,c_seg] , dim = 1 )\n",
    "        rec_3 = self.reconstruction_3(x_merge)\n",
    "        \n",
    "        return rec_3\n",
    "    def construct_seg(self,x) : \n",
    "        y_1 = torch.argmax(nn.Softmax2d()(x) , dim=1)\n",
    "        x_label_0 = (y_1==0).type(torch.long).unsqueeze(1)\n",
    "        x_label_1 = (y_1==1).type(torch.long).unsqueeze(1)\n",
    "        x_label_2 = (y_1==2).type(torch.long).unsqueeze(1)\n",
    "        x_label_3 = (y_1==3).type(torch.long).unsqueeze(1)\n",
    "        generated_segmenation = torch.cat([x_label_0,x_label_1,x_label_2,x_label_3] , dim = 1)\n",
    "        generated_segmenation = generated_segmenation.type(torch.float)\n",
    "        return generated_segmenation "
   ]
  },
  {
   "cell_type": "code",
   "execution_count": 7,
   "metadata": {},
   "outputs": [],
   "source": [
    "class GANCascadedUNet(nn.Module) : \n",
    "    def __init__(self) :\n",
    "        super(GANCascadedUNet,self).__init__()\n",
    "        self.layer_1  = UNet(1,1, segmentation = False) \n",
    "        self.layer_2  = UNet(2,4, segmentation = False)\n",
    "        self.layer_3  = UNet(6,1, segmentation = False)\n",
    "        self.layer_4  = UNet(2,4, segmentation = False)\n",
    "        self.layer_5  = UNet(6,1, segmentation = False)\n",
    "    def forward(self,image) :\n",
    "        \n",
    "        hr_1 = self.layer_1(image)\n",
    "        im = torch.cat([hr_1,image],dim=1)\n",
    "        \n",
    "        seg_1 = self.layer_2(im)\n",
    "        \n",
    "        seg_t = self.segmentation_gen(seg_1)\n",
    "        im = torch.cat([hr_1,image,seg_t*image],dim=1)\n",
    "        \n",
    "        hr_2 = self.layer_3(im) \n",
    "        \n",
    "        im = torch.cat([hr_2,image],dim=1)\n",
    "        seg_2 = self.layer_4(im)\n",
    "        \n",
    "        seg_t = self.segmentation_gen(seg_2) \n",
    "        \n",
    "        im = torch.cat([hr_2,image,seg_t*image],dim=1)\n",
    "        hr_3 = self.layer_5(im)\n",
    "        \n",
    "        return hr_3  \n",
    "    def segmentation_gen(self,x) : \n",
    "        \n",
    "        y_1 = torch.argmax(nn.Softmax2d()(x) , dim=1)\n",
    "        x_label_0 = (y_1==0).type(torch.long).unsqueeze(1)\n",
    "        x_label_1 = (y_1==1).type(torch.long).unsqueeze(1)\n",
    "        x_label_2 = (y_1==2).type(torch.long).unsqueeze(1)\n",
    "        x_label_3 = (y_1==3).type(torch.long).unsqueeze(1)\n",
    "        y_1 = torch.cat([x_label_0,x_label_1,x_label_2,x_label_3] , dim = 1)\n",
    "        y_1 = y_1.type(torch.float)\n",
    "        \n",
    "        return y_1 \n",
    "        "
   ]
  },
  {
   "cell_type": "code",
   "execution_count": 8,
   "metadata": {},
   "outputs": [],
   "source": [
    "class GANParallelCascadedUNet(nn.Module) : \n",
    "    def __init__(self) :\n",
    "        super(GANParallelCascadedUNet,self).__init__()\n",
    "        \n",
    "        self.segmentation_1  = UNet(1,4, segmentation = False) \n",
    "        self.segmentation_2  = UNet(2,4, segmentation = False)\n",
    "        self.segmentation_3  = UNet(2,4, segmentation = False)\n",
    "        \n",
    "        self.reconstruction_1 = UNet(1,1, segmentation = False)\n",
    "        self.reconstruction_2 = UNet(5,1, segmentation = False)\n",
    "        self.reconstruction_3 = UNet(5,1, segmentation = False)\n",
    "    \n",
    "    def forward(self,image) :\n",
    "        seg_1 = self.segmentation_1(image) \n",
    "        rec_1 = self.reconstruction_1(image)\n",
    "        \n",
    "        x_hr_lr = torch.cat([rec_1,image] , dim =1)\n",
    "        seg_2  = self.segmentation_2(x_hr_lr) \n",
    "        \n",
    "        c_seg = self.construct_seg(seg_1)\n",
    "        x_merge = torch.cat([image,c_seg] , dim = 1 )\n",
    "        rec_2 = self.reconstruction_2(x_merge)\n",
    "        \n",
    "        x_hr_lr = torch.cat([rec_2,image] , dim =1)\n",
    "        seg_3  = self.segmentation_3(x_hr_lr) \n",
    "        \n",
    "        c_seg = self.construct_seg(seg_2)\n",
    "        x_merge = torch.cat([image,c_seg] , dim = 1 )\n",
    "        rec_3 = self.reconstruction_3(x_merge)\n",
    "       \n",
    "        pred_seg = self.construct_seg(seg_3)\n",
    "        return rec_3\n",
    "    \n",
    "    def construct_seg(self,x) : \n",
    "        y_1 = torch.argmax(nn.Softmax2d()(x) , dim=1)\n",
    "        x_label_0 = (y_1==0).type(torch.long).unsqueeze(1)\n",
    "        x_label_1 = (y_1==1).type(torch.long).unsqueeze(1)\n",
    "        x_label_2 = (y_1==2).type(torch.long).unsqueeze(1)\n",
    "        x_label_3 = (y_1==3).type(torch.long).unsqueeze(1)\n",
    "        generated_segmenation = torch.cat([x_label_0,x_label_1,x_label_2,x_label_3] , dim = 1)\n",
    "        generated_segmenation = generated_segmenation.type(torch.float)\n",
    "        return generated_segmenation \n",
    "        "
   ]
  },
  {
   "cell_type": "code",
   "execution_count": null,
   "metadata": {},
   "outputs": [],
   "source": []
  },
  {
   "cell_type": "code",
   "execution_count": 26,
   "metadata": {},
   "outputs": [],
   "source": [
    "def construction(df , model , is_simple = True) : \n",
    "    model.eval()\n",
    "    data_loader = torch.utils.data.DataLoader(\n",
    "        df,\n",
    "        batch_size=8,\n",
    "        num_workers=4\n",
    "    )\n",
    "    with torch.no_grad():\n",
    "        \n",
    "        for bi, d in tqdm(enumerate(data_loader)) :\n",
    "       \n",
    "            y = d[\"HR\"].to(device, dtype=torch.float)\n",
    "\n",
    "            x = d[\"LR\"].to(device, dtype=torch.float) \n",
    "            \n",
    "            y_hat   = model(x.unsqueeze(1)) #forward prop\n",
    "            if is_simple == False : \n",
    "                y_hat = y_hat[:,1:,:,:]\n",
    "            if bi == 0 :\n",
    "                \n",
    "                full_x     = x\n",
    "                full_y     = y\n",
    "                full_y_hat = y_hat \n",
    "            \n",
    "            else :\n",
    "                \n",
    "                full_x     = torch.cat([full_x , x] , dim = 0 ) \n",
    "                full_y     = torch.cat([full_y , y] , dim = 0 )  \n",
    "                full_y_hat = torch.cat([full_y_hat , y_hat] , dim = 0 )  \n",
    "                \n",
    "    return full_x.cpu().numpy() , full_y.cpu().numpy() , full_y_hat.cpu().numpy()[:,0,:,:]"
   ]
  },
  {
   "cell_type": "code",
   "execution_count": 27,
   "metadata": {},
   "outputs": [],
   "source": [
    "def write( x , path ) :  \n",
    "    img = sitk.GetImageFromArray(x)\n",
    "    writer = sitk.ImageFileWriter()\n",
    "    writer.SetFileName(path)\n",
    "    writer.Execute(img)"
   ]
  },
  {
   "cell_type": "code",
   "execution_count": 28,
   "metadata": {},
   "outputs": [],
   "source": [
    "def generate_subject(subject_num , f):\n",
    "\n",
    "        PATH_UNet = f'trained_model/UNet_reconstruction/Unet Left fold {f}.pt'\n",
    "        PATH_GAN = f'trained_model/GAN_reconstruction/GAN Left fold {f}.pt'\n",
    "        PATH_CUNet = f'trained_model/Casceded UNet/Rec Cascaded Unet V2 Left fold {f}.pt'\n",
    "        PATH_PCUNet = f'trained_model/PCasceded UNet/Rec PCascaded Unet V2 Left fold {f}.pt'\n",
    "        PATH_GANCUNet = f'trained_model/Casceded UNet/GAN Rec Cascaded Unet V2 Left fold {f}.pt'\n",
    "        PATH_GANPCUNet = f'trained_model/PCasceded UNet/GAN Rec PCascaded Unet V2 Left fold {f}.pt'\n",
    "        \n",
    "        subject_df = df[df['Subject_num']==subject_num ]\n",
    "        subject_df = subject_df.sort_values('slice')\n",
    "        \n",
    "        subject_df_dataset =  Merging_data_set(subject_df ,  subjects  , Left = True , is_train = False)\n",
    "        \n",
    "        model = UNet(1,1)\n",
    "        model = model.to(device) \n",
    "        model.load_state_dict(torch.load(PATH_UNet))\n",
    "        x , y , y_hat = construction(subject_df_dataset,model)\n",
    "      \n",
    "        \n",
    "        write(x,f'models_outputs/Reconstruction/Fold {f}/Orginal_LR_subject_num_{subject_num}_fold_{f}.nii')   \n",
    "        write(y,f'models_outputs/Reconstruction/Fold {f}/Orginal_HR_subject_num_{subject_num}_fold_{f}.nii')\n",
    "        write(y_hat,f'models_outputs/Reconstruction/Fold {f}/UNet_predicted_HR_subject_num_{subject_num}_fold_{f}.nii')\n",
    "        \n",
    "        \n",
    "        model = UNet(1,1)\n",
    "        model = model.to(device) \n",
    "        model.load_state_dict(torch.load(PATH_GAN))\n",
    "        x , y , y_hat = construction(subject_df_dataset,model)\n",
    "        write(y_hat,f'models_outputs/Reconstruction/Fold {f}/GAN_predicted_HR_subject_num_{subject_num}_fold_{f}.nii')\n",
    "\n",
    "        model = CascadedUNet()\n",
    "        model = model.to(device) \n",
    "        model.load_state_dict(torch.load(PATH_CUNet))\n",
    "        x , y , y_hat = construction(subject_df_dataset,model)\n",
    "        write(y_hat,f'models_outputs/Reconstruction/Fold {f}/CUNet_predicted_HR_subject_num_{subject_num}_fold_{f}.nii')\n",
    "        \n",
    "        model = ParallelCascadedUNet()\n",
    "        model = model.to(device) \n",
    "        model.load_state_dict(torch.load(PATH_PCUNet))\n",
    "        x , y , y_hat = construction(subject_df_dataset,model) \n",
    "        write(y_hat,f'models_outputs/Reconstruction/Fold {f}/PCUNet_predicted_HR_subject_num_{subject_num}_fold_{f}.nii')\n",
    "        \n",
    "        model = GANCascadedUNet()\n",
    "        model = model.to(device)\n",
    "        model.load_state_dict(torch.load(PATH_GANCUNet))\n",
    "        x , y , y_hat = construction(subject_df_dataset,model)\n",
    "        write(y_hat,f'models_outputs/Reconstruction/Fold {f}/GANCUNet_predicted_HR_subject_num_{subject_num}_fold_{f}.nii')\n",
    "        \n",
    "        model = GANParallelCascadedUNet()\n",
    "        model = model.to(device)\n",
    "        model.load_state_dict(torch.load(PATH_GANPCUNet))\n",
    "        x , y , y_hat = construction(subject_df_dataset,model)\n",
    "        write(y_hat,f'models_outputs/Reconstruction/Fold {f}/GANPCUNet_predicted_HR_subject_num_{subject_num}_fold_{f}.nii')\n",
    "              \n",
    "        "
   ]
  },
  {
   "cell_type": "code",
   "execution_count": 29,
   "metadata": {},
   "outputs": [],
   "source": [
    "subject_fold0 = 7\n",
    "subject_fold1 = 23\n",
    "subject_fold2 = 15\n",
    "subject_fold3 = 10\n",
    "subject_fold4 = 5"
   ]
  },
  {
   "cell_type": "code",
   "execution_count": 30,
   "metadata": {},
   "outputs": [
    {
     "data": {
      "application/vnd.jupyter.widget-view+json": {
       "model_id": "9aa18186c74b4dca95bd2280d1760cec",
       "version_major": 2,
       "version_minor": 0
      },
      "text/plain": [
       "HBox(children=(FloatProgress(value=1.0, bar_style='info', max=1.0), HTML(value='')))"
      ]
     },
     "metadata": {},
     "output_type": "display_data"
    },
    {
     "name": "stdout",
     "output_type": "stream",
     "text": [
      "\n",
      "(159, 160, 160)\n",
      "(159, 160, 160)\n",
      "(159, 160, 160)\n"
     ]
    },
    {
     "data": {
      "application/vnd.jupyter.widget-view+json": {
       "model_id": "6e8886ab16af47719ea84bfc2178766f",
       "version_major": 2,
       "version_minor": 0
      },
      "text/plain": [
       "HBox(children=(FloatProgress(value=1.0, bar_style='info', max=1.0), HTML(value='')))"
      ]
     },
     "metadata": {},
     "output_type": "display_data"
    },
    {
     "name": "stdout",
     "output_type": "stream",
     "text": [
      "\n"
     ]
    },
    {
     "data": {
      "application/vnd.jupyter.widget-view+json": {
       "model_id": "1bc1e18e703b4ab3938174cfd4790448",
       "version_major": 2,
       "version_minor": 0
      },
      "text/plain": [
       "HBox(children=(FloatProgress(value=1.0, bar_style='info', max=1.0), HTML(value='')))"
      ]
     },
     "metadata": {},
     "output_type": "display_data"
    },
    {
     "name": "stdout",
     "output_type": "stream",
     "text": [
      "\n"
     ]
    },
    {
     "data": {
      "application/vnd.jupyter.widget-view+json": {
       "model_id": "190421b60439482885fae5a4623c2803",
       "version_major": 2,
       "version_minor": 0
      },
      "text/plain": [
       "HBox(children=(FloatProgress(value=1.0, bar_style='info', max=1.0), HTML(value='')))"
      ]
     },
     "metadata": {},
     "output_type": "display_data"
    },
    {
     "name": "stdout",
     "output_type": "stream",
     "text": [
      "\n"
     ]
    },
    {
     "data": {
      "application/vnd.jupyter.widget-view+json": {
       "model_id": "4cd9585e432d486d866f5a0e868e2cab",
       "version_major": 2,
       "version_minor": 0
      },
      "text/plain": [
       "HBox(children=(FloatProgress(value=1.0, bar_style='info', max=1.0), HTML(value='')))"
      ]
     },
     "metadata": {},
     "output_type": "display_data"
    },
    {
     "name": "stdout",
     "output_type": "stream",
     "text": [
      "\n"
     ]
    },
    {
     "data": {
      "application/vnd.jupyter.widget-view+json": {
       "model_id": "92f89f13a5ca4ea5a2690f31bec26609",
       "version_major": 2,
       "version_minor": 0
      },
      "text/plain": [
       "HBox(children=(FloatProgress(value=1.0, bar_style='info', max=1.0), HTML(value='')))"
      ]
     },
     "metadata": {},
     "output_type": "display_data"
    },
    {
     "name": "stdout",
     "output_type": "stream",
     "text": [
      "\n"
     ]
    },
    {
     "data": {
      "application/vnd.jupyter.widget-view+json": {
       "model_id": "81b278380c1149ac91ddc9e454a9c726",
       "version_major": 2,
       "version_minor": 0
      },
      "text/plain": [
       "HBox(children=(FloatProgress(value=1.0, bar_style='info', max=1.0), HTML(value='')))"
      ]
     },
     "metadata": {},
     "output_type": "display_data"
    },
    {
     "name": "stdout",
     "output_type": "stream",
     "text": [
      "\n",
      "(159, 160, 160)\n",
      "(159, 160, 160)\n",
      "(159, 160, 160)\n"
     ]
    },
    {
     "data": {
      "application/vnd.jupyter.widget-view+json": {
       "model_id": "6644bbe2eed84bd896c3ff104ab3812d",
       "version_major": 2,
       "version_minor": 0
      },
      "text/plain": [
       "HBox(children=(FloatProgress(value=1.0, bar_style='info', max=1.0), HTML(value='')))"
      ]
     },
     "metadata": {},
     "output_type": "display_data"
    },
    {
     "name": "stdout",
     "output_type": "stream",
     "text": [
      "\n"
     ]
    },
    {
     "data": {
      "application/vnd.jupyter.widget-view+json": {
       "model_id": "b9fe4e97f45e4fb78c34a365dc332fa5",
       "version_major": 2,
       "version_minor": 0
      },
      "text/plain": [
       "HBox(children=(FloatProgress(value=1.0, bar_style='info', max=1.0), HTML(value='')))"
      ]
     },
     "metadata": {},
     "output_type": "display_data"
    },
    {
     "name": "stdout",
     "output_type": "stream",
     "text": [
      "\n"
     ]
    },
    {
     "data": {
      "application/vnd.jupyter.widget-view+json": {
       "model_id": "2020d1e8c2854aada08c9d6da9247936",
       "version_major": 2,
       "version_minor": 0
      },
      "text/plain": [
       "HBox(children=(FloatProgress(value=1.0, bar_style='info', max=1.0), HTML(value='')))"
      ]
     },
     "metadata": {},
     "output_type": "display_data"
    },
    {
     "name": "stdout",
     "output_type": "stream",
     "text": [
      "\n"
     ]
    },
    {
     "data": {
      "application/vnd.jupyter.widget-view+json": {
       "model_id": "1897296091d148f5b3e0a23922a0a9de",
       "version_major": 2,
       "version_minor": 0
      },
      "text/plain": [
       "HBox(children=(FloatProgress(value=1.0, bar_style='info', max=1.0), HTML(value='')))"
      ]
     },
     "metadata": {},
     "output_type": "display_data"
    },
    {
     "name": "stdout",
     "output_type": "stream",
     "text": [
      "\n"
     ]
    },
    {
     "data": {
      "application/vnd.jupyter.widget-view+json": {
       "model_id": "669d769258ed4a4197d67840e6d9222b",
       "version_major": 2,
       "version_minor": 0
      },
      "text/plain": [
       "HBox(children=(FloatProgress(value=1.0, bar_style='info', max=1.0), HTML(value='')))"
      ]
     },
     "metadata": {},
     "output_type": "display_data"
    },
    {
     "name": "stdout",
     "output_type": "stream",
     "text": [
      "\n"
     ]
    },
    {
     "data": {
      "application/vnd.jupyter.widget-view+json": {
       "model_id": "e2971a2804fd4c5586259192d3506b0a",
       "version_major": 2,
       "version_minor": 0
      },
      "text/plain": [
       "HBox(children=(FloatProgress(value=1.0, bar_style='info', max=1.0), HTML(value='')))"
      ]
     },
     "metadata": {},
     "output_type": "display_data"
    },
    {
     "name": "stdout",
     "output_type": "stream",
     "text": [
      "\n",
      "(159, 160, 160)\n",
      "(159, 160, 160)\n",
      "(159, 160, 160)\n"
     ]
    },
    {
     "data": {
      "application/vnd.jupyter.widget-view+json": {
       "model_id": "92b475d8993b430387fe4bbe6109e24e",
       "version_major": 2,
       "version_minor": 0
      },
      "text/plain": [
       "HBox(children=(FloatProgress(value=1.0, bar_style='info', max=1.0), HTML(value='')))"
      ]
     },
     "metadata": {},
     "output_type": "display_data"
    },
    {
     "name": "stdout",
     "output_type": "stream",
     "text": [
      "\n"
     ]
    },
    {
     "data": {
      "application/vnd.jupyter.widget-view+json": {
       "model_id": "28efe87df0604f288faabaa4e3cfa816",
       "version_major": 2,
       "version_minor": 0
      },
      "text/plain": [
       "HBox(children=(FloatProgress(value=1.0, bar_style='info', max=1.0), HTML(value='')))"
      ]
     },
     "metadata": {},
     "output_type": "display_data"
    },
    {
     "name": "stdout",
     "output_type": "stream",
     "text": [
      "\n"
     ]
    },
    {
     "data": {
      "application/vnd.jupyter.widget-view+json": {
       "model_id": "a1afd4f9553f42e0b2ab310bc1535e79",
       "version_major": 2,
       "version_minor": 0
      },
      "text/plain": [
       "HBox(children=(FloatProgress(value=1.0, bar_style='info', max=1.0), HTML(value='')))"
      ]
     },
     "metadata": {},
     "output_type": "display_data"
    },
    {
     "name": "stdout",
     "output_type": "stream",
     "text": [
      "\n"
     ]
    },
    {
     "data": {
      "application/vnd.jupyter.widget-view+json": {
       "model_id": "9f791542c0b149a58d54797446afe5d1",
       "version_major": 2,
       "version_minor": 0
      },
      "text/plain": [
       "HBox(children=(FloatProgress(value=1.0, bar_style='info', max=1.0), HTML(value='')))"
      ]
     },
     "metadata": {},
     "output_type": "display_data"
    },
    {
     "name": "stdout",
     "output_type": "stream",
     "text": [
      "\n"
     ]
    },
    {
     "data": {
      "application/vnd.jupyter.widget-view+json": {
       "model_id": "718c5840b69c443caf44bb169b37d460",
       "version_major": 2,
       "version_minor": 0
      },
      "text/plain": [
       "HBox(children=(FloatProgress(value=1.0, bar_style='info', max=1.0), HTML(value='')))"
      ]
     },
     "metadata": {},
     "output_type": "display_data"
    },
    {
     "name": "stdout",
     "output_type": "stream",
     "text": [
      "\n"
     ]
    },
    {
     "data": {
      "application/vnd.jupyter.widget-view+json": {
       "model_id": "031dcae5a7474893980969d1d03e3af7",
       "version_major": 2,
       "version_minor": 0
      },
      "text/plain": [
       "HBox(children=(FloatProgress(value=1.0, bar_style='info', max=1.0), HTML(value='')))"
      ]
     },
     "metadata": {},
     "output_type": "display_data"
    },
    {
     "name": "stdout",
     "output_type": "stream",
     "text": [
      "\n",
      "(159, 160, 160)\n",
      "(159, 160, 160)\n",
      "(159, 160, 160)\n"
     ]
    },
    {
     "data": {
      "application/vnd.jupyter.widget-view+json": {
       "model_id": "3644161e3b0f42e0aa5814cf495fa80c",
       "version_major": 2,
       "version_minor": 0
      },
      "text/plain": [
       "HBox(children=(FloatProgress(value=1.0, bar_style='info', max=1.0), HTML(value='')))"
      ]
     },
     "metadata": {},
     "output_type": "display_data"
    },
    {
     "name": "stdout",
     "output_type": "stream",
     "text": [
      "\n"
     ]
    },
    {
     "data": {
      "application/vnd.jupyter.widget-view+json": {
       "model_id": "c1b162ede15743f89a22c674fdd9815a",
       "version_major": 2,
       "version_minor": 0
      },
      "text/plain": [
       "HBox(children=(FloatProgress(value=1.0, bar_style='info', max=1.0), HTML(value='')))"
      ]
     },
     "metadata": {},
     "output_type": "display_data"
    },
    {
     "name": "stdout",
     "output_type": "stream",
     "text": [
      "\n"
     ]
    },
    {
     "data": {
      "application/vnd.jupyter.widget-view+json": {
       "model_id": "7b78bb3707074684a7b911633ab8417c",
       "version_major": 2,
       "version_minor": 0
      },
      "text/plain": [
       "HBox(children=(FloatProgress(value=1.0, bar_style='info', max=1.0), HTML(value='')))"
      ]
     },
     "metadata": {},
     "output_type": "display_data"
    },
    {
     "name": "stdout",
     "output_type": "stream",
     "text": [
      "\n"
     ]
    },
    {
     "data": {
      "application/vnd.jupyter.widget-view+json": {
       "model_id": "2d0da8cecc07440fa4514ec4b7c1f70d",
       "version_major": 2,
       "version_minor": 0
      },
      "text/plain": [
       "HBox(children=(FloatProgress(value=1.0, bar_style='info', max=1.0), HTML(value='')))"
      ]
     },
     "metadata": {},
     "output_type": "display_data"
    },
    {
     "name": "stdout",
     "output_type": "stream",
     "text": [
      "\n"
     ]
    },
    {
     "data": {
      "application/vnd.jupyter.widget-view+json": {
       "model_id": "d5a9512c909a45d0b9e71ef7b6ed9d41",
       "version_major": 2,
       "version_minor": 0
      },
      "text/plain": [
       "HBox(children=(FloatProgress(value=1.0, bar_style='info', max=1.0), HTML(value='')))"
      ]
     },
     "metadata": {},
     "output_type": "display_data"
    },
    {
     "name": "stdout",
     "output_type": "stream",
     "text": [
      "\n"
     ]
    },
    {
     "data": {
      "application/vnd.jupyter.widget-view+json": {
       "model_id": "93b67a67a01e4706a191224fddab8259",
       "version_major": 2,
       "version_minor": 0
      },
      "text/plain": [
       "HBox(children=(FloatProgress(value=1.0, bar_style='info', max=1.0), HTML(value='')))"
      ]
     },
     "metadata": {},
     "output_type": "display_data"
    },
    {
     "name": "stdout",
     "output_type": "stream",
     "text": [
      "\n",
      "(159, 160, 160)\n",
      "(159, 160, 160)\n",
      "(159, 160, 160)\n"
     ]
    },
    {
     "data": {
      "application/vnd.jupyter.widget-view+json": {
       "model_id": "f7c5e4b8bf684965a0b3eb9ed08eaa15",
       "version_major": 2,
       "version_minor": 0
      },
      "text/plain": [
       "HBox(children=(FloatProgress(value=1.0, bar_style='info', max=1.0), HTML(value='')))"
      ]
     },
     "metadata": {},
     "output_type": "display_data"
    },
    {
     "name": "stdout",
     "output_type": "stream",
     "text": [
      "\n"
     ]
    },
    {
     "data": {
      "application/vnd.jupyter.widget-view+json": {
       "model_id": "9f03dcbdbe2b410e9c52b5309a9ef7e7",
       "version_major": 2,
       "version_minor": 0
      },
      "text/plain": [
       "HBox(children=(FloatProgress(value=1.0, bar_style='info', max=1.0), HTML(value='')))"
      ]
     },
     "metadata": {},
     "output_type": "display_data"
    },
    {
     "name": "stdout",
     "output_type": "stream",
     "text": [
      "\n"
     ]
    },
    {
     "data": {
      "application/vnd.jupyter.widget-view+json": {
       "model_id": "f75cdca87fe445abaca650afaa9e4604",
       "version_major": 2,
       "version_minor": 0
      },
      "text/plain": [
       "HBox(children=(FloatProgress(value=1.0, bar_style='info', max=1.0), HTML(value='')))"
      ]
     },
     "metadata": {},
     "output_type": "display_data"
    },
    {
     "name": "stdout",
     "output_type": "stream",
     "text": [
      "\n"
     ]
    },
    {
     "data": {
      "application/vnd.jupyter.widget-view+json": {
       "model_id": "c180e892ec404e8694d421768518333d",
       "version_major": 2,
       "version_minor": 0
      },
      "text/plain": [
       "HBox(children=(FloatProgress(value=1.0, bar_style='info', max=1.0), HTML(value='')))"
      ]
     },
     "metadata": {},
     "output_type": "display_data"
    },
    {
     "name": "stdout",
     "output_type": "stream",
     "text": [
      "\n"
     ]
    },
    {
     "data": {
      "application/vnd.jupyter.widget-view+json": {
       "model_id": "c41574078fec43248fcdedf6ff24df87",
       "version_major": 2,
       "version_minor": 0
      },
      "text/plain": [
       "HBox(children=(FloatProgress(value=1.0, bar_style='info', max=1.0), HTML(value='')))"
      ]
     },
     "metadata": {},
     "output_type": "display_data"
    },
    {
     "name": "stdout",
     "output_type": "stream",
     "text": [
      "\n"
     ]
    }
   ],
   "source": [
    "generate_subject(7,0)\n",
    "generate_subject(23,1)\n",
    "generate_subject(15,2)\n",
    "generate_subject(10,3)\n",
    "generate_subject(5,4)"
   ]
  },
  {
   "cell_type": "code",
   "execution_count": 31,
   "metadata": {},
   "outputs": [],
   "source": [
    "def display_images(image_lr, image_reconstruct, image_hr, z):\n",
    "    fig, axs = plt.subplots(1,3,figsize=(20,8))\n",
    "    axs[0].imshow(sitk.GetArrayFromImage(image_lr[:,:,z]),cmap=plt.cm.Greys_r);\n",
    "    axs[0].set_title('3T LR')\n",
    "    axs[2].imshow(sitk.GetArrayFromImage(image_hr[:,:,z]),cmap=plt.cm.Greys_r);\n",
    "    axs[2].set_title('3T HR')\n",
    "    axs[1].imshow(sitk.GetArrayFromImage(image_reconstruct[:,:,z]),cmap=plt.cm.Greys_r);\n",
    "    axs[1].set_title('3T like HR')"
   ]
  },
  {
   "cell_type": "code",
   "execution_count": 34,
   "metadata": {},
   "outputs": [],
   "source": [
    "predicted_img = sitk.ReadImage( 'models_outputs/Reconstruction/Fold 0/UNet_predicted_HR_subject_num_7_fold_0.nii')\n",
    "real_lr = sitk.ReadImage( 'models_outputs/Reconstruction/Fold 0/Orginal_LR_subject_num_7_fold_0.nii')\n",
    "real_hr = sitk.ReadImage( 'models_outputs/Reconstruction/Fold 0/Orginal_HR_subject_num_7_fold_0.nii')"
   ]
  },
  {
   "cell_type": "code",
   "execution_count": 35,
   "metadata": {},
   "outputs": [
    {
     "data": {
      "image/png": "[encoded data removed]",
      "text/plain": [
       "<Figure size 1440x576 with 3 Axes>"
      ]
     },
     "metadata": {
      "needs_background": "light"
     },
     "output_type": "display_data"
    },
    {
     "data": {
      "text/plain": [
       "<function __main__.display_images(image_lr, image_reconstruct, image_hr, z)>"
      ]
     },
     "execution_count": 35,
     "metadata": {},
     "output_type": "execute_result"
    }
   ],
   "source": [
    "interact(display_images, z=(0, real_lr.GetSize()[2] - 1), image_lr = fixed(real_lr), image_reconstruct = fixed(predicted_img) ,image_hr = fixed(real_hr) )\n"
   ]
  },
  {
   "cell_type": "code",
   "execution_count": 33,
   "metadata": {},
   "outputs": [
    {
     "data": {
      "image/png": "[encoded data removed]",
      "text/plain": [
       "<Figure size 1440x576 with 3 Axes>"
      ]
     },
     "metadata": {
      "needs_background": "light"
     },
     "output_type": "display_data"
    },
    {
     "data": {
      "text/plain": [
       "<function __main__.display_images(image_lr, image_reconstruct, image_hr, z)>"
      ]
     },
     "execution_count": 33,
     "metadata": {},
     "output_type": "execute_result"
    }
   ],
   "source": [
    "interact(display_images, z=(0, real_lr.GetSize()[2] - 1), image_lr = fixed(real_lr), image_reconstruct = fixed(predicted_img) ,image_hr = fixed(real_hr) )\n"
   ]
  },
  {
   "cell_type": "code",
   "execution_count": 22,
   "metadata": {},
   "outputs": [
    {
     "data": {
      "text/plain": [
       "(160, 1, 159)"
      ]
     },
     "execution_count": 22,
     "metadata": {},
     "output_type": "execute_result"
    }
   ],
   "source": [
    "predicted_img.GetSize()"
   ]
  },
  {
   "cell_type": "code",
   "execution_count": null,
   "metadata": {},
   "outputs": [],
   "source": []
  }
 ],
 "metadata": {
  "kernelspec": {
   "display_name": "Python 3",
   "language": "python",
   "name": "python3"
  },
  "language_info": {
   "codemirror_mode": {
    "name": "ipython",
    "version": 3
   },
   "file_extension": ".py",
   "mimetype": "text/x-python",
   "name": "python",
   "nbconvert_exporter": "python",
   "pygments_lexer": "ipython3",
   "version": "3.7.6"
  }
 },
 "nbformat": 4,
 "nbformat_minor": 4
}
